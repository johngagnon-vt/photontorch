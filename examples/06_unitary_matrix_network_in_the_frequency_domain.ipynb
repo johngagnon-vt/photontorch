{
 "cells": [
  {
   "cell_type": "markdown",
   "metadata": {},
   "source": [
    "# Unitary Matrix Networks in the Frequency domain"
   ]
  },
  {
   "cell_type": "markdown",
   "metadata": {},
   "source": [
    "## Imports"
   ]
  },
  {
   "cell_type": "code",
   "execution_count": null,
   "metadata": {},
   "outputs": [],
   "source": [
    "# standard library\n",
    "from collections import OrderedDict\n",
    "import sys\n",
    "sys.path.append('../')\n",
    "\n",
    "# photontorch\n",
    "import torch\n",
    "import photontorch as pt\n",
    "\n",
    "# other\n",
    "import numpy as np\n",
    "import matplotlib.pyplot as plt\n",
    "from tqdm.notebook import trange"
   ]
  },
  {
   "cell_type": "markdown",
   "metadata": {},
   "source": [
    "## Settings"
   ]
  },
  {
   "cell_type": "code",
   "execution_count": null,
   "metadata": {},
   "outputs": [],
   "source": [
    "%matplotlib inline\n",
    "DEVICE = 'cpu'\n",
    "np.random.seed(0)\n",
    "torch.manual_seed(0)\n",
    "np.set_printoptions(precision=2, suppress=True)\n",
    "env = pt.Environment(freqdomain=True, num_t=1, grad=True)\n",
    "pt.set_environment(env);\n",
    "pt.current_environment()"
   ]
  },
  {
   "cell_type": "markdown",
   "metadata": {},
   "source": [
    "## Unitary Matrices"
   ]
  },
  {
   "cell_type": "markdown",
   "metadata": {},
   "source": [
    "A unitary matrix is a matrix $U$ for which\n",
    "\\begin{align*}\n",
    "U\\cdot U^\\dagger = U^\\dagger \\cdot U = I\n",
    "\\end{align*}\n",
    "\n",
    "A unitary matrix is easily implemented in photonics. Indeed, according to the paper *\"[Experimental Realization of Any Discrete Unitary Matrix](https://journals.aps.org/prl/abstract/10.1103/PhysRevLett.73.58)\"* by Reck et. al., Any unitary matrix can be written as a combination of phase shifters and directional couplers with variable coupling (or MZI's) (Figure (a))\n",
    "\n",
    "However, there exists an alternative approach to achieve any unitary operation, first proposed by Clements et. al. : [Optimal design for universal multiport interferometers](https://www.osapublishing.org/optica/abstract.cfm?uri=optica-3-12-1460) (Figure (b))\n",
    "\n",
    "![Unitary Matrix Paper](images/clements.jpeg)\n"
   ]
  },
  {
   "cell_type": "markdown",
   "metadata": {},
   "source": [
    "## 2x2 Unitary matrix (Reck)"
   ]
  },
  {
   "cell_type": "markdown",
   "metadata": {},
   "source": [
    "### Functions"
   ]
  },
  {
   "cell_type": "code",
   "execution_count": null,
   "metadata": {},
   "outputs": [],
   "source": [
    "def array(tensor):\n",
    "    arr = tensor.data.cpu().numpy()\n",
    "    if arr.shape[0] == 2:\n",
    "        arr = arr[0] + 1j * arr[1]\n",
    "    return arr\n",
    "\n",
    "def tensor(array):\n",
    "    if array.dtype == np.complex64 or array.dtype == np.complex128:\n",
    "        array = np.stack([np.real(array), np.imag(array)])\n",
    "    return torch.tensor(array, dtype=torch.get_default_dtype(), device=DEVICE)\n",
    "\n",
    "def rand_phase():\n",
    "    return float(2*np.pi*np.random.rand())\n",
    "\n",
    "class Network(pt.Network):\n",
    "    def _handle_source(self, matrix, **kwargs):\n",
    "        expanded_matrix = matrix[:,None,None,:,:]\n",
    "        a,b,c,d,e = expanded_matrix.shape\n",
    "        expanded_matrix = torch.cat([\n",
    "            expanded_matrix,\n",
    "            torch.zeros((a,b,c,self.num_mc-d,e), device=expanded_matrix.device),\n",
    "        ], -2)\n",
    "        return expanded_matrix\n",
    "    def forward(self, matrix):\n",
    "        ''' matrix shape = (2, num_sources, num_sources)'''\n",
    "        result = super(Network, self).forward(matrix, power=False)\n",
    "        return result[:,0,0,:,:]\n",
    "    def count_params(self):\n",
    "        num_params = 0\n",
    "        for p in self.parameters():\n",
    "            num_params += int(np.prod(p.shape))\n",
    "        return num_params\n",
    "\n",
    "def unitary_matrix(m,n):\n",
    "    real_part = np.random.rand(m,n)\n",
    "    imag_part = np.random.rand(m,n)\n",
    "    complex_matrix = real_part + 1j*imag_part\n",
    "    if m >= n:\n",
    "        unitary_matrix, _, _ = np.linalg.svd(complex_matrix, full_matrices = False)\n",
    "    else:\n",
    "        _, _, unitary_matrix = np.linalg.svd(complex_matrix, full_matrices = False)\n",
    "    return unitary_matrix"
   ]
  },
  {
   "cell_type": "markdown",
   "metadata": {},
   "source": [
    "### Define Network"
   ]
  },
  {
   "cell_type": "code",
   "execution_count": null,
   "metadata": {},
   "outputs": [],
   "source": [
    "class Network2x2(Network):\n",
    "    def __init__(self):\n",
    "        super(Network2x2, self).__init__()\n",
    "        self.s1 = pt.Source()\n",
    "        self.s2 = pt.Source()\n",
    "        self.d1 = pt.Detector()\n",
    "        self.d2 = pt.Detector()\n",
    "        self.mzi = pt.Mzi(length=0, phi=rand_phase(), theta=rand_phase(), trainable=True)\n",
    "        self.wg1 = pt.Waveguide(length=0, phase=rand_phase(), trainable=True)\n",
    "        self.wg2 = pt.Waveguide(length=0, phase=rand_phase(), trainable=True)\n",
    "        self.link('s1:0', '0:mzi:1', '0:wg1:1', '0:d1')\n",
    "        self.link('s2:0', '3:mzi:2', '0:wg2:1', '0:d2')\n",
    "        \n",
    "nw2x2 = Network2x2().to(DEVICE).initialize()"
   ]
  },
  {
   "cell_type": "markdown",
   "metadata": {},
   "source": [
    "### Check unitarity"
   ]
  },
  {
   "cell_type": "markdown",
   "metadata": {},
   "source": [
    "To see which unitary matrix the network represents, we search for the result of the propagation of an identity matrix through the network. The power flag was set to false, as we are interested in the full complex output of the system. To show that this matrix is indeed unitary, we multiply with its conjugate transpose:"
   ]
  },
  {
   "cell_type": "code",
   "execution_count": null,
   "metadata": {},
   "outputs": [],
   "source": [
    "def check_unitarity(nw):\n",
    "    matrix = tensor(np.eye(nw.num_sources) + 0j)\n",
    "    result = array(nw(matrix))\n",
    "    print(result@result.T.conj())\n",
    "\n",
    "check_unitarity(nw2x2)"
   ]
  },
  {
   "cell_type": "markdown",
   "metadata": {},
   "source": [
    "### Check Universality"
   ]
  },
  {
   "cell_type": "markdown",
   "metadata": {},
   "source": [
    "However, it would be more interesting if we can show that this network can act like *any* unitary matrix. We will now train the network to be equal to another unitary matrix by using the unitary property $U\\cdot U^\\dagger=I$: we will train the network to obtain $I$ with $U_0^\\dagger$ as input."
   ]
  },
  {
   "cell_type": "code",
   "execution_count": null,
   "metadata": {},
   "outputs": [],
   "source": [
    "def check_universality(nw, num_epochs=500, lr=0.1):\n",
    "    matrix_to_approximate = unitary_matrix(nw.num_sources, nw.num_sources)\n",
    "    matrix_input = tensor(matrix_to_approximate.T.conj().copy())\n",
    "    eye = tensor(np.eye(nw.num_sources) + 0j)\n",
    "    optimizer = torch.optim.Adam(nw.parameters(), lr=lr)\n",
    "    lossfunc = torch.nn.MSELoss()\n",
    "    epochs = trange(num_epochs)\n",
    "    for i in epochs:\n",
    "        optimizer.zero_grad()\n",
    "        result = nw(matrix_input)\n",
    "        loss = lossfunc(result, eye)\n",
    "        loss.backward()\n",
    "        optimizer.step()\n",
    "        epochs.set_postfix(loss=f'{loss.item():.7f}')\n",
    "        if loss.item() < 1e-6:\n",
    "            break\n",
    "\n",
    "    matrix_approximated = array(nw(eye))\n",
    "    print(matrix_approximated)\n",
    "    print(matrix_to_approximate)"
   ]
  },
  {
   "cell_type": "code",
   "execution_count": null,
   "metadata": {},
   "outputs": [],
   "source": [
    "check_universality(nw2x2)"
   ]
  },
  {
   "cell_type": "markdown",
   "metadata": {},
   "source": [
    "## 3x3 Unitary Matrix (Reck)"
   ]
  },
  {
   "cell_type": "code",
   "execution_count": null,
   "metadata": {},
   "outputs": [],
   "source": [
    "class Reck3x3(Network):\n",
    "    def __init__(self):\n",
    "        super(Reck3x3, self).__init__()\n",
    "        self.s1 = pt.Source()\n",
    "        self.s2 = pt.Source()\n",
    "        self.s3 = pt.Source()\n",
    "        self.d1 = pt.Detector()\n",
    "        self.d2 = pt.Detector()\n",
    "        self.d3 = pt.Detector()\n",
    "        self.mzi1 = pt.Mzi(length=0, phi=rand_phase(), theta=rand_phase(), trainable=True)\n",
    "        self.mzi2 = pt.Mzi(length=0, phi=rand_phase(), theta=rand_phase(), trainable=True)\n",
    "        self.mzi3 = pt.Mzi(length=0, phi=rand_phase(), theta=rand_phase(), trainable=True)\n",
    "        self.wg1 = pt.Waveguide(length=0, phase=rand_phase(), trainable=True)\n",
    "        self.wg2 = pt.Waveguide(length=0, phase=rand_phase(), trainable=True)\n",
    "        self.wg3 = pt.Waveguide(length=0, phase=rand_phase(), trainable=True)\n",
    "        self.link(\"s1:0\",                         \"0:mzi1:1\",                        \"0:d1\")\n",
    "        self.link(\"s2:0\",             \"0:mzi2:1\", \"3:mzi1:2\", \"0:mzi3:1\",            \"0:d2\")\n",
    "        self.link(\"s3:0\", \"0:wg1:1\",  \"3:mzi2:2\", \"0:wg2:1\",  \"3:mzi3:2\", \"0:wg3:1\", \"0:d3\")\n",
    "reck3x3 = Reck3x3().to(DEVICE).initialize()"
   ]
  },
  {
   "cell_type": "markdown",
   "metadata": {},
   "source": [
    "### Check Unitarity"
   ]
  },
  {
   "cell_type": "code",
   "execution_count": null,
   "metadata": {},
   "outputs": [],
   "source": [
    "check_unitarity(reck3x3)"
   ]
  },
  {
   "cell_type": "markdown",
   "metadata": {},
   "source": [
    "### Check Universality"
   ]
  },
  {
   "cell_type": "code",
   "execution_count": null,
   "metadata": {},
   "outputs": [],
   "source": [
    "check_universality(reck3x3)"
   ]
  },
  {
   "cell_type": "markdown",
   "metadata": {},
   "source": [
    "## 3x3 Unitary Matrix (Clements)"
   ]
  },
  {
   "cell_type": "code",
   "execution_count": null,
   "metadata": {},
   "outputs": [],
   "source": [
    "class Clements3x3(Network):\n",
    "    def __init__(self):\n",
    "        super(Clements3x3, self).__init__()\n",
    "        self.s1 = pt.Source()\n",
    "        self.s2 = pt.Source()\n",
    "        self.s3 = pt.Source()\n",
    "        self.d1 = pt.Detector()\n",
    "        self.d2 = pt.Detector()\n",
    "        self.d3 = pt.Detector()\n",
    "        self.mzi1 = pt.Mzi(length=0, phi=rand_phase(), theta=rand_phase(), trainable=True)\n",
    "        self.mzi2 = pt.Mzi(length=0, phi=rand_phase(), theta=rand_phase(), trainable=True)\n",
    "        self.mzi3 = pt.Mzi(length=0, phi=rand_phase(), theta=rand_phase(), trainable=True)\n",
    "        self.wg1 = pt.Waveguide(length=0, phase=rand_phase(), trainable=True)\n",
    "        self.wg2 = pt.Waveguide(length=0, phase=rand_phase(), trainable=True)\n",
    "        self.wg3 = pt.Waveguide(length=0, phase=rand_phase(), trainable=True)\n",
    "        self.link(\"s1:0\", \"0:mzi1:1\",             \"0:mzi3:1\", \"0:wg1:1\", \"0:d1\")\n",
    "        self.link(\"s2:0\", \"3:mzi1:2\", \"0:mzi2:1\", \"3:mzi3:2\", \"0:wg2:1\", \"0:d2\")\n",
    "        self.link(\"s3:0\",             \"3:mzi2:2\",             \"0:wg3:1\", \"0:d3\")\n",
    "clem3x3 = Clements3x3().to(DEVICE).initialize()"
   ]
  },
  {
   "cell_type": "markdown",
   "metadata": {},
   "source": [
    "### Check Unitarity"
   ]
  },
  {
   "cell_type": "code",
   "execution_count": null,
   "metadata": {},
   "outputs": [],
   "source": [
    "check_unitarity(clem3x3)"
   ]
  },
  {
   "cell_type": "markdown",
   "metadata": {},
   "source": [
    "### Check Universality"
   ]
  },
  {
   "cell_type": "code",
   "execution_count": null,
   "metadata": {},
   "outputs": [],
   "source": [
    "check_universality(clem3x3, num_epochs=1000)"
   ]
  },
  {
   "cell_type": "markdown",
   "metadata": {},
   "source": [
    "## NxN Unitary Matrix (Reck)"
   ]
  },
  {
   "cell_type": "markdown",
   "metadata": {},
   "source": [
    "Creating those networks is quite cumbersome. However they are also implemented by photontorch, which then handles the creation of the networks:"
   ]
  },
  {
   "cell_type": "code",
   "execution_count": null,
   "metadata": {},
   "outputs": [],
   "source": [
    "reck2x2 = pt.ReckNxN(N=2).to(DEVICE).terminate().initialize()\n",
    "reck5x5 = pt.ReckNxN(N=5).to(DEVICE).terminate().initialize()\n",
    "# quick monkeypatch to have the same behavior as the classes defined above\n",
    "reck5x5.__class__ = Network"
   ]
  },
  {
   "cell_type": "markdown",
   "metadata": {},
   "source": [
    "### Check Unitarity"
   ]
  },
  {
   "cell_type": "code",
   "execution_count": null,
   "metadata": {},
   "outputs": [],
   "source": [
    "check_unitarity(reck5x5)"
   ]
  },
  {
   "cell_type": "markdown",
   "metadata": {},
   "source": [
    "### Check Universality"
   ]
  },
  {
   "cell_type": "code",
   "execution_count": null,
   "metadata": {},
   "outputs": [],
   "source": [
    "check_universality(reck5x5)"
   ]
  },
  {
   "cell_type": "markdown",
   "metadata": {},
   "source": [
    "## NxN Unitary Matrix (Clements)"
   ]
  },
  {
   "cell_type": "code",
   "execution_count": null,
   "metadata": {},
   "outputs": [],
   "source": [
    "clem5x5 = pt.ClementsNxN(N=5).to(DEVICE).terminate().initialize()\n",
    "clem6x6 = pt.ClementsNxN(N=6).to(DEVICE).terminate().initialize()\n",
    "# quick monkeypatch to have the same behavior as the classes defined above\n",
    "clem5x5.__class__ = clem6x6.__class__ = Network"
   ]
  },
  {
   "cell_type": "markdown",
   "metadata": {},
   "source": [
    "### Check Unitarity"
   ]
  },
  {
   "cell_type": "code",
   "execution_count": null,
   "metadata": {},
   "outputs": [],
   "source": [
    "check_unitarity(clem5x5)\n",
    "check_unitarity(clem6x6)"
   ]
  },
  {
   "cell_type": "markdown",
   "metadata": {},
   "source": [
    "### Check Universality"
   ]
  },
  {
   "cell_type": "code",
   "execution_count": null,
   "metadata": {},
   "outputs": [],
   "source": [
    "check_universality(clem5x5, num_epochs=1000)\n",
    "check_universality(clem6x6, num_epochs=1000)"
   ]
  }
 ],
 "metadata": {
  "kernelspec": {
   "display_name": "Python 3 (ipykernel)",
   "language": "python",
   "name": "python3"
  },
  "language_info": {
   "codemirror_mode": {
    "name": "ipython"
   },
   "file_extension": ".py",
   "mimetype": "text/x-python",
   "name": "python",
   "nbconvert_exporter": "python"
  }
 },
 "nbformat": 4,
 "nbformat_minor": 4
}
