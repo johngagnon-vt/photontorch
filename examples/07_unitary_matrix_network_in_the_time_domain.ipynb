{
 "cells": [
  {
   "cell_type": "markdown",
   "metadata": {},
   "source": [
    "# Unitary Matrix Networks in the Time Domain"
   ]
  },
  {
   "cell_type": "markdown",
   "metadata": {},
   "source": [
    "## Imports"
   ]
  },
  {
   "cell_type": "code",
   "execution_count": null,
   "metadata": {},
   "outputs": [],
   "source": [
    "# Photontorch\n",
    "import sys\n",
    "sys.path.append('../')\n",
    "\n",
    "import photontorch as pt\n",
    "\n",
    "\n",
    "# Python\n",
    "import torch\n",
    "import numpy as np\n",
    "import matplotlib.pyplot as plt\n",
    "from tqdm.notebook import trange\n",
    "\n",
    "# numpy settings\n",
    "np.random.seed(6) # seed for random numbers\n",
    "np.set_printoptions(precision=2, suppress=True) # show less numbers while printing numpy arrays"
   ]
  },
  {
   "cell_type": "markdown",
   "metadata": {},
   "source": [
    "## Schematic\n",
    "![Unitary Matrix Paper](images/clements.jpeg)\n",
    "\n",
    "(a) Reck Design\n",
    "\n",
    "(b) Clements Design"
   ]
  },
  {
   "cell_type": "markdown",
   "metadata": {},
   "source": [
    "## Simulation and Design Parameters"
   ]
  },
  {
   "cell_type": "markdown",
   "metadata": {},
   "source": [
    "Here we will use the matrix network *with* delays."
   ]
  },
  {
   "cell_type": "code",
   "execution_count": null,
   "metadata": {},
   "outputs": [],
   "source": [
    "N = 4\n",
    "length = 25e-6 #[m]\n",
    "transmission = 0.5 #[]\n",
    "neff = 2.86\n",
    "env = pt.Environment(\n",
    "    t_start = 0,\n",
    "    t_end = 2000e-14,\n",
    "    dt = 1e-13,\n",
    "    wl = 1.55e-6,\n",
    ")\n",
    "pt.set_environment(env)\n",
    "\n",
    "source = torch.ones(N, names=[\"s\"])/np.sqrt(N) # Source tensors with less than 4D need to have named dimensions.\n",
    "\n",
    "env"
   ]
  },
  {
   "cell_type": "markdown",
   "metadata": {},
   "source": [
    "## A. Reck Design"
   ]
  },
  {
   "cell_type": "code",
   "execution_count": null,
   "metadata": {},
   "outputs": [],
   "source": [
    "nw = pt.ReckNxN(\n",
    "    N=N, \n",
    "    wg_factory=lambda: pt.Waveguide(length=1e-4, phase=2*np.pi*np.random.rand(), trainable=True),\n",
    "    mzi_factory=lambda: pt.Mzi(length=1e-4, phi=2*np.pi*np.random.rand(), theta=2*np.pi*np.random.rand(), trainable=True),\n",
    ").terminate()"
   ]
  },
  {
   "cell_type": "markdown",
   "metadata": {},
   "source": [
    "## Simulation"
   ]
  },
  {
   "cell_type": "code",
   "execution_count": null,
   "metadata": {},
   "outputs": [],
   "source": [
    "detected_time = nw(source)\n",
    "nw.plot(detected_time[:,0,:,0]); # plot first and only batch"
   ]
  },
  {
   "cell_type": "markdown",
   "metadata": {},
   "source": [
    "## Total power recovered:"
   ]
  },
  {
   "cell_type": "code",
   "execution_count": null,
   "metadata": {},
   "outputs": [],
   "source": [
    "detected_time[-1,0,:,0].sum()"
   ]
  },
  {
   "cell_type": "markdown",
   "metadata": {},
   "source": [
    "## Optimizing the coupling"
   ]
  },
  {
   "cell_type": "markdown",
   "metadata": {},
   "source": [
    "The goal is to optimize the coupling of the network such that we have the same output at the 4 detectors with an as high as possible amplitude (ideally, higher than in the equal coupling case)."
   ]
  },
  {
   "cell_type": "code",
   "execution_count": null,
   "metadata": {},
   "outputs": [],
   "source": [
    "def train_for_same_output(nw, num_epochs=50, learning_rate=0.1):\n",
    "    target = torch.tensor([1.0/N]*N, device=nw.device)\n",
    "    lossfunc = torch.nn.MSELoss()\n",
    "    optimizer = torch.optim.Adam(nw.parameters(), lr=learning_rate)\n",
    "    with pt.Environment(wl=1.55e-6, t0=0, t1=10e-12, dt=1e-13, grad=True):\n",
    "        range_ = trange(num_epochs)\n",
    "        for epoch in range_:\n",
    "            det_train = nw(source)[-1,0,:,0]\n",
    "            loss = lossfunc(det_train, target)\n",
    "            loss.backward()\n",
    "            optimizer.step()\n",
    "            range_.set_postfix(loss=loss.item())\n",
    "        \n",
    "train_for_same_output(nw)"
   ]
  },
  {
   "cell_type": "markdown",
   "metadata": {},
   "source": [
    "## Final Simulation"
   ]
  },
  {
   "cell_type": "code",
   "execution_count": null,
   "metadata": {},
   "outputs": [],
   "source": [
    "%time det_train = nw(source)\n",
    "nw.plot(det_train[:,0,:,0]); # plot first and only batch"
   ]
  },
  {
   "cell_type": "markdown",
   "metadata": {},
   "source": [
    "Note that in the Reck network, signals arrive at different times."
   ]
  },
  {
   "cell_type": "markdown",
   "metadata": {},
   "source": [
    "## Total power recovered"
   ]
  },
  {
   "cell_type": "code",
   "execution_count": null,
   "metadata": {},
   "outputs": [],
   "source": [
    "det_train[-1,0,:,0].sum()"
   ]
  },
  {
   "cell_type": "markdown",
   "metadata": {},
   "source": [
    "## B. Clements Design"
   ]
  },
  {
   "cell_type": "code",
   "execution_count": null,
   "metadata": {},
   "outputs": [],
   "source": [
    "nw = pt.ClementsNxN(\n",
    "    N=N, \n",
    "    capacity=N,\n",
    "    wg_factory=lambda: pt.Waveguide(length=1e-4, phase=2*np.pi*np.random.rand(), trainable=True),\n",
    "    mzi_factory=lambda: pt.Mzi(length=1e-4, phi=2*np.pi*np.random.rand(), theta=2*np.pi*np.random.rand(), trainable=True),\n",
    ").terminate()"
   ]
  },
  {
   "cell_type": "markdown",
   "metadata": {},
   "source": [
    "## Simulation"
   ]
  },
  {
   "cell_type": "code",
   "execution_count": null,
   "metadata": {},
   "outputs": [],
   "source": [
    "detected_time = nw(source)\n",
    "nw.plot(detected_time[:,0,:,0]); # plot first and only batch"
   ]
  },
  {
   "cell_type": "markdown",
   "metadata": {},
   "source": [
    "## Total power recovered:"
   ]
  },
  {
   "cell_type": "code",
   "execution_count": null,
   "metadata": {},
   "outputs": [],
   "source": [
    "detected_time[-1,0,:,0].sum()"
   ]
  },
  {
   "cell_type": "markdown",
   "metadata": {},
   "source": [
    "## Optimizing the coupling"
   ]
  },
  {
   "cell_type": "code",
   "execution_count": null,
   "metadata": {},
   "outputs": [],
   "source": [
    "def train_for_same_output(nw, num_epochs=50, learning_rate=0.1):\n",
    "    target = torch.tensor([1.0/N]*N, device=nw.device)\n",
    "    lossfunc = torch.nn.MSELoss()\n",
    "    optimizer = torch.optim.Adam(nw.parameters(), lr=learning_rate)\n",
    "    with pt.Environment(wl=1.55e-6, t0=0, t1=10e-12, dt=1e-13, grad=True):\n",
    "        range_ = trange(num_epochs)\n",
    "        for epoch in range_:\n",
    "            det_train = nw(source)[-1,0,:,0] # get first and only batch\n",
    "            loss = lossfunc(det_train, target)\n",
    "            loss.backward()\n",
    "            optimizer.step()\n",
    "            range_.set_postfix(loss=loss.item())\n",
    "        \n",
    "train_for_same_output(nw)"
   ]
  },
  {
   "cell_type": "markdown",
   "metadata": {},
   "source": [
    "## Final Simulation"
   ]
  },
  {
   "cell_type": "code",
   "execution_count": null,
   "metadata": {},
   "outputs": [],
   "source": [
    "%time det_train = nw(source)\n",
    "nw.plot(det_train[:,0,:,0]); # plot first and only batch"
   ]
  },
  {
   "cell_type": "markdown",
   "metadata": {},
   "source": [
    "Note that in the Clements network, all signals arrive at the same time at the detector."
   ]
  }
 ],
 "metadata": {
  "kernelspec": {
   "display_name": "Python 3 (ipykernel)",
   "language": "python",
   "name": "python3"
  },
  "language_info": {
   "codemirror_mode": {
    "name": "ipython"
   },
   "file_extension": ".py",
   "mimetype": "text/x-python",
   "name": "python",
   "nbconvert_exporter": "python"
  }
 },
 "nbformat": 4,
 "nbformat_minor": 4
}
