{
 "cells": [
  {
   "cell_type": "markdown",
   "metadata": {},
   "source": [
    "# Simulating an Add-Drop Filter"
   ]
  },
  {
   "cell_type": "markdown",
   "metadata": {
    "slideshow": {
     "slide_type": "skip"
    }
   },
   "source": [
    "## Imports"
   ]
  },
  {
   "cell_type": "code",
   "execution_count": null,
   "metadata": {
    "slideshow": {
     "slide_type": "skip"
    }
   },
   "outputs": [],
   "source": [
    "%matplotlib inline\n",
    "# Photontorch\n",
    "import sys\n",
    "sys.path.append('../')\n",
    "\n",
    "import numpy as np\n",
    "import matplotlib.pyplot as plt\n",
    "import photontorch as pt"
   ]
  },
  {
   "cell_type": "markdown",
   "metadata": {
    "slideshow": {
     "slide_type": "-"
    }
   },
   "source": [
    "## Simple Add Drop filter\n",
    "<img src='images/ring_schematic.png' width=250>"
   ]
  },
  {
   "cell_type": "markdown",
   "metadata": {
    "slideshow": {
     "slide_type": "skip"
    }
   },
   "source": [
    "## Simulation & Design Parameters"
   ]
  },
  {
   "cell_type": "code",
   "execution_count": null,
   "metadata": {
    "slideshow": {
     "slide_type": "-"
    }
   },
   "outputs": [],
   "source": [
    "dt = 1e-14 #[s]\n",
    "total_time = 2000*dt #[s]\n",
    "time = np.arange(0, total_time, dt)\n",
    "c = 299792458 #[m/s]\n",
    "ring_length = 50e-6 #[m]\n",
    "transmission = 0.7 #[]\n",
    "wavelengths = 1e-6*np.linspace(1.50, 1.6, 1000) #[m]"
   ]
  },
  {
   "cell_type": "markdown",
   "metadata": {
    "slideshow": {
     "slide_type": "-"
    }
   },
   "source": [
    "## Circuit"
   ]
  },
  {
   "cell_type": "markdown",
   "metadata": {},
   "source": [
    "In the [all-pass notebook](01_all_pass_filter.ipynb), we saw how to create a network by subclassing pt.Network. Although this is the preferred way of creating a network, sometimes you want to get rid of the boilerplate of creating a network. This can be done by creating the network using a context manager:"
   ]
  },
  {
   "cell_type": "code",
   "execution_count": null,
   "metadata": {
    "slideshow": {
     "slide_type": "-"
    }
   },
   "outputs": [],
   "source": [
    "with pt.Network() as nw:\n",
    "    nw.term_in = pt.Source()\n",
    "    nw.term_pass = nw.term_add = nw.term_drop = pt.Detector()\n",
    "    nw.dc1 = nw.dc2 = pt.DirectionalCoupler(1-transmission)\n",
    "    nw.wg1 = nw.wg2 = pt.Waveguide(0.5*ring_length, loss=0, neff=2.86)\n",
    "    nw.link('term_in:0', '0:dc1:2', '0:wg1:1', '1:dc2:3', '0:term_drop')\n",
    "    nw.link('term_pass:0', '1:dc1:3', '0:wg2:1', '0:dc2:2', '0:term_add')"
   ]
  },
  {
   "cell_type": "markdown",
   "metadata": {
    "slideshow": {
     "slide_type": "slide"
    }
   },
   "source": [
    "## Simulate Time Domain"
   ]
  },
  {
   "cell_type": "code",
   "execution_count": null,
   "metadata": {
    "slideshow": {
     "slide_type": "-"
    }
   },
   "outputs": [],
   "source": [
    "with pt.Environment(wl=np.mean(wavelengths), t=time):\n",
    "    detected = nw(source=1)\n",
    "    nw.plot(detected);"
   ]
  },
  {
   "cell_type": "markdown",
   "metadata": {
    "slideshow": {
     "slide_type": "slide"
    }
   },
   "source": [
    "## Simulate Frequency Domain"
   ]
  },
  {
   "cell_type": "code",
   "execution_count": null,
   "metadata": {
    "slideshow": {
     "slide_type": "-"
    }
   },
   "outputs": [],
   "source": [
    "with pt.Environment(wl=wavelengths, freqdomain=True):\n",
    "    detected = nw(source=1)\n",
    "    nw.plot(detected)"
   ]
  },
  {
   "cell_type": "markdown",
   "metadata": {
    "slideshow": {
     "slide_type": "slide"
    }
   },
   "source": [
    "## Add Drop Filter With Grating Couplers\n",
    "<img src='images/gc_ring_schematic.png' width=500>"
   ]
  },
  {
   "cell_type": "markdown",
   "metadata": {
    "slideshow": {
     "slide_type": "skip"
    }
   },
   "source": [
    "## Simulation & Design Parameters"
   ]
  },
  {
   "cell_type": "code",
   "execution_count": null,
   "metadata": {
    "slideshow": {
     "slide_type": "-"
    }
   },
   "outputs": [],
   "source": [
    "dt = 1e-14 #[s]\n",
    "total_time = 1000*dt #[s]\n",
    "time = np.arange(0, total_time, dt)\n",
    "\n",
    "distance_x = 100.0e-6 #[m]\n",
    "distance_y = 30.0e-6 #[m]\n",
    "center_wavelength=1.55e-6 #[m]\n",
    "bandwidth=0.06e-6 #[m]\n",
    "peak_transmission=0.60**0.5\n",
    "reflection=0.05**0.5\n",
    "\n",
    "c = 299792458 #[m/s]\n",
    "wg_length = 89.22950569e-6 #[m]\n",
    "ring_length = 50e-6 #[m]\n",
    "transmission = 0.7 #[]\n",
    "wavelengths = 1e-6*np.linspace(1.50, 1.6, 1000) #[m]"
   ]
  },
  {
   "cell_type": "markdown",
   "metadata": {
    "slideshow": {
     "slide_type": "skip"
    }
   },
   "source": [
    "## Circuit"
   ]
  },
  {
   "cell_type": "code",
   "execution_count": null,
   "metadata": {},
   "outputs": [],
   "source": [
    "with pt.Network() as nw:\n",
    "    # components\n",
    "    nw.src = pt.Source()\n",
    "    nw.through = nw.add = nw.drop = pt.Detector()\n",
    "    nw.dc1 = nw.dc2 = pt.DirectionalCoupler(1 - transmission)\n",
    "    nw.wg1 = nw.wg2 = pt.Waveguide(0.5 * ring_length, loss=0, neff=2.86)\n",
    "    nw.wg_in = nw.wg_through = nw.wg_add = nw.wg_drop = pt.Waveguide(\n",
    "        length=wg_length, loss=0.0, neff=2.86, trainable=True\n",
    "    )\n",
    "    nw.gc_in = nw.gc_through = nw.gc_add = nw.gc_drop = pt.GratingCoupler(\n",
    "            R=reflection,\n",
    "            R_in=0,\n",
    "            Tmax=peak_transmission,\n",
    "            bandwidth=bandwidth,\n",
    "            wl0=center_wavelength,\n",
    "        )\n",
    "    \n",
    "    # links\n",
    "    nw.link('src:0', '0:gc_in:1', '0:wg_in:1', '0:dc1:2', '0:wg2:1',\n",
    "            '1:dc2:3', '1:wg_drop:0', '1:gc_drop:0', '0:drop')\n",
    "    \n",
    "    nw.link('through:0', '0:gc_through:1', '0:wg_through:1', '1:dc1:3', '0:wg1:1',\n",
    "            '0:dc2:2', '1:wg_add:0', '1:gc_add:0', '0:add')"
   ]
  },
  {
   "cell_type": "markdown",
   "metadata": {
    "slideshow": {
     "slide_type": "slide"
    }
   },
   "source": [
    "## Simulate Time Domain"
   ]
  },
  {
   "cell_type": "code",
   "execution_count": null,
   "metadata": {},
   "outputs": [],
   "source": [
    "with pt.Environment(wl=np.mean(wavelengths), t=time):\n",
    "    detected = nw(source=1)\n",
    "    nw.plot(detected);"
   ]
  },
  {
   "cell_type": "markdown",
   "metadata": {
    "slideshow": {
     "slide_type": "slide"
    }
   },
   "source": [
    "## Simulate Frequency Domain"
   ]
  },
  {
   "cell_type": "code",
   "execution_count": null,
   "metadata": {},
   "outputs": [],
   "source": [
    "with pt.Environment(wl=wavelengths, freqdomain=True):\n",
    "    detected = nw(source=1)\n",
    "    nw.plot(detected)"
   ]
  }
 ],
 "metadata": {
  "kernelspec": {
   "display_name": "Python 3 (ipykernel)",
   "language": "python",
   "name": "python3"
  },
  "language_info": {
   "codemirror_mode": {
    "name": "ipython"
   },
   "file_extension": ".py",
   "mimetype": "text/x-python",
   "name": "python",
   "nbconvert_exporter": "python"
  }
 },
 "nbformat": 4,
 "nbformat_minor": 4
}
