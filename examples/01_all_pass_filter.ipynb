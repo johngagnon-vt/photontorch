{
 "cells": [
  {
   "cell_type": "markdown",
   "metadata": {},
   "source": [
    "# Simulating an All-Pass Filter"
   ]
  },
  {
   "cell_type": "markdown",
   "metadata": {},
   "source": [
    "## Imports"
   ]
  },
  {
   "cell_type": "code",
   "execution_count": null,
   "metadata": {},
   "outputs": [],
   "source": [
    "%matplotlib inline\n",
    "# Photontorch\n",
    "import sys\n",
    "sys.path.append('../')\n",
    "\n",
    "import numpy as np\n",
    "import matplotlib.pyplot as plt\n",
    "import photontorch as pt"
   ]
  },
  {
   "cell_type": "markdown",
   "metadata": {},
   "source": [
    "## Schematic\n",
    "![all pass filter](images/allpass.png)"
   ]
  },
  {
   "cell_type": "markdown",
   "metadata": {},
   "source": [
    "## Simulation & Design Parameters"
   ]
  },
  {
   "cell_type": "code",
   "execution_count": null,
   "metadata": {},
   "outputs": [],
   "source": [
    "dt = 1e-14 # Timestep of the simulation\n",
    "total_time = 2.5e-12 # Total time to simulate\n",
    "time = np.arange(0, total_time, dt) # Total time array\n",
    "loss = 1 # [dB] (alpha) roundtrip loss in ring\n",
    "neff = 2.34 # Effective index of the waveguides\n",
    "ng = 3.4\n",
    "ring_length = 1e-5 #[m] Length of the ring\n",
    "transmission = 0.5 #[] transmission of directional coupler\n",
    "wavelengths = 1e-6*np.linspace(1.5,1.6,1000) #[m] Wavelengths to sweep over"
   ]
  },
  {
   "cell_type": "markdown",
   "metadata": {},
   "source": [
    "## Frequency Domain Analytically"
   ]
  },
  {
   "cell_type": "markdown",
   "metadata": {},
   "source": [
    "As a comparison, we first calculate the frequency domain response for the all-pass filter analytically:\n",
    "\\begin{align*}\n",
    "o = \\frac{t-10^{-\\alpha/20}\\exp(2\\pi j n_{\\rm eff}(\\lambda) L / \\lambda)}{1-t10^{-\\alpha/20}\\exp(2\\pi j n_{\\rm eff}(\\lambda) L / \\lambda)}s\n",
    "\\end{align*}"
   ]
  },
  {
   "cell_type": "code",
   "execution_count": null,
   "metadata": {},
   "outputs": [],
   "source": [
    "def frequency():\n",
    "    ''' Analytic Frequency Domain Response '''\n",
    "    detected = np.zeros_like(wavelengths)\n",
    "    for i, wl in enumerate(wavelengths):\n",
    "        wl0 = 1.55e-6\n",
    "        neff_wl = neff + (wl0-wl)*(ng-neff)/wl0 # we expect a linear behavior with respect to wavelength\n",
    "        out = np.sqrt(transmission) - 10**(-loss/20.)*np.exp(2j*np.pi*neff_wl*ring_length/wl)\n",
    "        out /= (1 - np.sqrt(transmission)*10**(-loss/20.)*np.exp(2j*np.pi*neff_wl*ring_length/wl))\n",
    "        detected[i] = abs(out)**2\n",
    "    return detected"
   ]
  },
  {
   "cell_type": "code",
   "execution_count": null,
   "metadata": {},
   "outputs": [],
   "source": [
    "def plot_frequency(detected, **kwargs):\n",
    "    ''' Plot detected power vs time '''\n",
    "    labels = kwargs.pop('labels', ['through','drop','add'])\n",
    "    plots = plt.plot(wavelengths*1e9, detected, **kwargs)\n",
    "    plt.xlabel('Wavelengths [nm]')\n",
    "    plt.ylabel('Transmission')\n",
    "    if labels is not None: plt.figlegend(plots, labels, loc='upper center', ncol=len(labels)%5)\n",
    "    plt.show()"
   ]
  },
  {
   "cell_type": "code",
   "execution_count": null,
   "metadata": {},
   "outputs": [],
   "source": [
    "%time detected_target = frequency()\n",
    "plot_frequency(detected_target)"
   ]
  },
  {
   "cell_type": "markdown",
   "metadata": {},
   "source": [
    "## Photontorch"
   ]
  },
  {
   "cell_type": "markdown",
   "metadata": {},
   "source": [
    "Next, we try to do the same simulation with Photontorch:"
   ]
  },
  {
   "cell_type": "markdown",
   "metadata": {},
   "source": [
    "A Photontorch network - or circuit - is created by subclassing the `Network` class. First all\n",
    "network subcomponents are defined as attributes of the network, after which the ports of the subcomponents can be linked together by using the `link` method.\n",
    "\n",
    "The `link` method takes an arbitrary number of string arguments. Each argument contains the component name together with a port number in front of and a port number behind the name (e.g. `\"0:wg:1\"`). The port number behind the name will connect to the port number in front of the next name. The first component does not need a port number in front of it, while the last component does not need a port number behind.\n",
    "\n",
    "The port order of each of the standard Photontorch components can be found in its docstring. Try for example this in a code cell:\n",
    "\n",
    "```text\n",
    "?DirectionalCoupler\n",
    "```"
   ]
  },
  {
   "cell_type": "markdown",
   "metadata": {},
   "source": [
    "### Define Allpass Network"
   ]
  },
  {
   "cell_type": "code",
   "execution_count": null,
   "metadata": {},
   "outputs": [],
   "source": [
    "class AllPass(pt.Network):\n",
    "    def __init__(self):\n",
    "        super(AllPass, self).__init__() # always initialize first.\n",
    "        self.src = pt.Source()\n",
    "        self.wg_in = pt.Waveguide(0.5*ring_length, neff=neff, ng=ng)\n",
    "        self.dc = pt.DirectionalCoupler(1-transmission)\n",
    "        self.wg_through = pt.Waveguide(0.5*ring_length, neff=neff, ng=ng)\n",
    "        self.wg_ring = pt.Waveguide(ring_length, loss=loss/ring_length, neff=neff)\n",
    "        self.det = pt.Detector()\n",
    "        self.link('src:0', '0:wg_in:1', '0:dc:1', '0:wg_through:1', '0:det')\n",
    "        self.link('dc:2', '0:wg_ring:1', '3:dc')"
   ]
  },
  {
   "cell_type": "markdown",
   "metadata": {},
   "source": [
    "### Create AllPass Network"
   ]
  },
  {
   "cell_type": "code",
   "execution_count": null,
   "metadata": {},
   "outputs": [],
   "source": [
    "nw = AllPass()"
   ]
  },
  {
   "cell_type": "markdown",
   "metadata": {},
   "source": [
    "## Time Domain Simulation"
   ]
  },
  {
   "cell_type": "markdown",
   "metadata": {},
   "source": [
    "### Setting the simulation environment"
   ]
  },
  {
   "cell_type": "markdown",
   "metadata": {},
   "source": [
    "A simulation cannot be performed before a simulation environment is set. The simulation environment contains all the necessary global information (such as wavelength, timestep, number of timesteps, ...) to perform a simulation.\n",
    "\n",
    "After the environment is set, a simulation can be run (for example for a source with constant amplitude)"
   ]
  },
  {
   "cell_type": "code",
   "execution_count": null,
   "metadata": {},
   "outputs": [],
   "source": [
    "# create environment\n",
    "environment = pt.Environment(\n",
    "    wl=np.mean(wavelengths),\n",
    "    t=time,\n",
    ")\n",
    "\n",
    "# set environment\n",
    "pt.set_environment(environment)\n",
    "\n",
    "# run simulation\n",
    "detected = nw(source=1)"
   ]
  },
  {
   "cell_type": "markdown",
   "metadata": {},
   "source": [
    "Notice the shape of the detected tensor:"
   ]
  },
  {
   "cell_type": "code",
   "execution_count": null,
   "metadata": {},
   "outputs": [],
   "source": [
    "detected.shape"
   ]
  },
  {
   "cell_type": "markdown",
   "metadata": {},
   "source": [
    "In general the shape of the detected tensor always has the same form:\n",
    "```text\n",
    "    (# timesteps, # wavelengths, # detectors, # parallel simulations)\n",
    "```\n",
    "In this case, we did a single simulation for 2500 timesteps while only using a single wavelength and a single detector.\n",
    "\n",
    "Each network has a plotting function, which uses this information and the information in the current environment to give you the most helpful plot possible. In this case, it is a simple power vs time plot:"
   ]
  },
  {
   "cell_type": "code",
   "execution_count": null,
   "metadata": {},
   "outputs": [],
   "source": [
    "# plot result\n",
    "nw.plot(detected);"
   ]
  },
  {
   "cell_type": "markdown",
   "metadata": {},
   "source": [
    "Sometimes, it is useful to detect the complex field values in stead of the power. This can be done by setting the `power=False` flag during simulation:"
   ]
  },
  {
   "cell_type": "code",
   "execution_count": null,
   "metadata": {},
   "outputs": [],
   "source": [
    "detected = nw(source=1, power=False)\n",
    "print(detected.shape)"
   ]
  },
  {
   "cell_type": "markdown",
   "metadata": {},
   "source": [
    "In this case, an extra dimension of size 2 will be added in front of the original detected shape, giving the real and imaginary part of the deteced field (because PyTorch does not support imaginary tensors)."
   ]
  },
  {
   "cell_type": "code",
   "execution_count": null,
   "metadata": {},
   "outputs": [],
   "source": [
    "nw.plot(detected[0])\n",
    "nw.plot(detected[1])\n",
    "plt.legend(['real', 'imag'])\n",
    "plt.show()"
   ]
  },
  {
   "cell_type": "markdown",
   "metadata": {},
   "source": [
    "## Frequency Domain Simulation"
   ]
  },
  {
   "cell_type": "markdown",
   "metadata": {},
   "source": [
    "Setting up a frequency domain simulation is very similar to setting up a time domain simulation. The only difference actually happens in the simulation environment, where the `frequency_domain` flag was set to `True`. This will remove all the delays inside the simulation, after which a simulation is performed for a single timestep. Because all the internal delays of the network were set to zero, this simulation of a single timestep will immediately reach the steady state. This is a very fast method for calculating the frequency domain response of your circuit.  \n",
    "\n",
    "In the following, we choose to set the environment with a context manager. This will ensure the environment is closed after exiting the with-block. This way, the environment will return to the environment which was set originally."
   ]
  },
  {
   "cell_type": "code",
   "execution_count": null,
   "metadata": {},
   "outputs": [],
   "source": [
    "# create simulation environment\n",
    "with pt.Environment(wl=wavelengths, freqdomain=True) as env:\n",
    "    detected = nw(source=1)\n",
    "    print(\"This was detected inside the context manager:\\n\"\n",
    "          \"We see an exact copy of the analytically predicted response, as is to be expected\")\n",
    "    nw.plot(detected, label=\"simulation\")\n",
    "    plt.plot(env.wavelength*1e9, detected_target, linestyle=\"dotted\", linewidth=3, label=\"analytical\")\n",
    "    plt.legend()\n",
    "    plt.show()\n",
    "\n",
    "print(\"This was detected outside the context manager, \"\n",
    "      \"with the default environment:\")\n",
    "detected = nw(source=1)\n",
    "nw.plot(detected)\n",
    "plt.show()"
   ]
  },
  {
   "cell_type": "markdown",
   "metadata": {},
   "source": [
    "## Multimode Simulation"
   ]
  },
  {
   "cell_type": "markdown",
   "metadata": {},
   "source": [
    "One of the strengths of photontorch, is that time-domain simulations can be done for multiple wavelengths at the same time. Just specify a range of wavelengths to simulate over in the simulation environment"
   ]
  },
  {
   "cell_type": "code",
   "execution_count": null,
   "metadata": {},
   "outputs": [],
   "source": [
    "with pt.Environment(wl=wavelengths[::100], t=time):\n",
    "    detected = nw(source=1)\n",
    "    nw.plot(detected);"
   ]
  }
 ],
 "metadata": {
  "kernelspec": {
   "display_name": "Python 3 (ipykernel)",
   "language": "python",
   "name": "python3"
  },
  "language_info": {
   "codemirror_mode": {
    "name": "ipython"
   },
   "file_extension": ".py",
   "mimetype": "text/x-python",
   "name": "python",
   "nbconvert_exporter": "python"
  }
 },
 "nbformat": 4,
 "nbformat_minor": 4
}
