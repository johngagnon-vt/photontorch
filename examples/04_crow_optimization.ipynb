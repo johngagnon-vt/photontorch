{
 "cells": [
  {
   "cell_type": "markdown",
   "metadata": {},
   "source": [
    "# Design of a Coupled Resonator Optical Waveguide band-pass filter with Photontorch"
   ]
  },
  {
   "cell_type": "markdown",
   "metadata": {},
   "source": [
    "## Imports"
   ]
  },
  {
   "cell_type": "code",
   "execution_count": null,
   "metadata": {},
   "outputs": [],
   "source": [
    "%matplotlib inline\n",
    "# Photontorch\n",
    "import sys\n",
    "sys.path.append('../')\n",
    "\n",
    "\n",
    "import numpy as np\n",
    "import matplotlib.pyplot as plt\n",
    "\n",
    "from tqdm.notebook import tqdm # [pip install tqdm]\n",
    "import torch # [conda install pytorch -c pytorch, only python 3!]\n",
    "import photontorch as pt # [pip install photontorch] my simulation/optimization library"
   ]
  },
  {
   "cell_type": "markdown",
   "metadata": {},
   "source": [
    "## Coupled Resonator Optical Waveguide"
   ]
  },
  {
   "cell_type": "markdown",
   "metadata": {},
   "source": [
    "A coupled resonator optical waveguide is a cascade of ring resonators.\n",
    "Such a network with $n$ rings has $2n+1$ parameters that you can optimize: $n$ ring phases and $n+1$ couplings."
   ]
  },
  {
   "cell_type": "markdown",
   "metadata": {},
   "source": [
    "<img src=\"data:image/png;base64,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\">"
   ]
  },
  {
   "cell_type": "markdown",
   "metadata": {},
   "source": [
    "## Parameters"
   ]
  },
  {
   "cell_type": "markdown",
   "metadata": {},
   "source": [
    "Let's define some global simulation parameters:"
   ]
  },
  {
   "cell_type": "code",
   "execution_count": null,
   "metadata": {},
   "outputs": [],
   "source": [
    "c = 299792458.0 # speed of light\n",
    "ring_length = 50e-6 #[m]\n",
    "ng=3.4 # group index\n",
    "neff=2.34 # effective index"
   ]
  },
  {
   "cell_type": "markdown",
   "metadata": {},
   "source": [
    "## Simulation Environment"
   ]
  },
  {
   "cell_type": "markdown",
   "metadata": {},
   "source": [
    "Photontorch expects a simulation environment to be set. This environment contains all global parameters for a simulation, such as the timestep of the simulation, the speed of light for the simulation, the wavelength, ..."
   ]
  },
  {
   "cell_type": "code",
   "execution_count": null,
   "metadata": {},
   "outputs": [],
   "source": [
    "# define the simulation environment:\n",
    "env = pt.Environment(\n",
    "    wavelength = 1e-6*np.linspace(1.50, 1.6, 1001), #[m]\n",
    "    freqdomain=True, # we will be doing frequency domain simulations\n",
    ")\n",
    "\n",
    "# set the global simulation environment:\n",
    "pt.set_environment(env)\n",
    "\n",
    "# one can always get the current environment from photontorch:\n",
    "pt.current_environment()"
   ]
  },
  {
   "cell_type": "markdown",
   "metadata": {},
   "source": [
    "## Components"
   ]
  },
  {
   "cell_type": "markdown",
   "metadata": {},
   "source": [
    "The network defined above consists of directional couplers and waveguides. We could use the `photontorch` default components (`pt.Waveguide` and `pt.DirectionalCoupler`), but as a good introduction to photontorch, we will define them ourselves."
   ]
  },
  {
   "cell_type": "markdown",
   "metadata": {},
   "source": [
    "## Waveguide"
   ]
  },
  {
   "cell_type": "markdown",
   "metadata": {},
   "source": [
    "A waveguide is a component with two ports. The waveguide introduces a delay (for time domain simulations; we will not use this here) and a phase shift. An additional `torch` optimizeable parameter is added to the waveguide, which acts as an additional phase shift on top of the phase introduced by the ring length. You can think of this as for example a heater on top of the waveguide which adjusts the phase of the ring."
   ]
  },
  {
   "cell_type": "code",
   "execution_count": null,
   "metadata": {},
   "outputs": [],
   "source": [
    "class Waveguide(pt.Component):\n",
    "    \"\"\" Waveguide\n",
    "    \n",
    "    Each waveguides has two ports. They are numbered 0 and 1:\n",
    "    \n",
    "    Ports:\n",
    "\n",
    "        0 ---- 1\n",
    "\n",
    "    \"\"\"\n",
    "    \n",
    "    # photontorch requires you to explicitly define the number of \n",
    "    # ports in the component as a class variable:\n",
    "    num_ports = 2\n",
    "\n",
    "    def __init__(\n",
    "        self,\n",
    "        length=1e-5,\n",
    "        loss=0, # in dB/m\n",
    "        neff=2.34, # effective index of the waveguide\n",
    "        ng=3.40, # group index of the waveguide\n",
    "        wl0=1.55e-6, # center wavelength for which the waveguide is defined\n",
    "        phase=0, # additional phase PARAMETER added to the waveguide\n",
    "        trainable=True, # a flag to make the the component trainable or not\n",
    "        name=None, # name of the waveguide\n",
    "    ):\n",
    "        \"\"\" creation of a new waveguide \"\"\"\n",
    "        super(Waveguide, self).__init__(name=name)# always initialize parent first\n",
    "        # Handle inputs\n",
    "        self.loss = float(loss)\n",
    "        self.neff = float(neff)\n",
    "        self.wl0 = float(wl0)\n",
    "        self.ng = float(ng)\n",
    "        self.length = float(length)\n",
    "        \n",
    "        \n",
    "        # handle phase input\n",
    "        phase = float(phase) % (2*np.pi)\n",
    "        if not trainable: # if the network is not trainable, just store it as a normal float:\n",
    "            self.phase = phase\n",
    "        else: # else, make an optimizable parameter out of it:\n",
    "            # create a torch tensor from the phase\n",
    "            phase = torch.tensor(phase, dtype=torch.float64)\n",
    "            # store the phase as a optimizable parameter\n",
    "            self.phase = torch.nn.Parameter(data=phase)\n",
    "\n",
    "    def set_delays(self, delays):\n",
    "        \"\"\" set the delays for time-domain simulations \"\"\"\n",
    "        delays[:] = self.ng * self.length / self.env.c\n",
    "\n",
    "    def set_S(self, S):\n",
    "        \"\"\" set the S-matrix\n",
    "        \n",
    "        NOTE: because PyTorch does not support complex tensors, the real \n",
    "        ane imaginary part of the S-matrix are stored in an extra dimension\n",
    "        \n",
    "        NOTE2: the S-matrix needs to be defined for all wavelengths, therefore\n",
    "        one needs an extra dimension to store each different S-matrix for each \n",
    "        wavelength\n",
    "        \n",
    "        ----------------\n",
    "        \n",
    "        Taking the above two notes into account, the S-matrix is thus a\n",
    "        4-D tensor with shape\n",
    "        \n",
    "        (2=(real|imag), #wavelengths, #ports, #ports)\n",
    "        \n",
    "        \"\"\"\n",
    "        # during a photontorch simulation, the simulation environment\n",
    "        # containing all the global simulation parameters will be \n",
    "        # available to you as `self.env`:\n",
    "        current_simulation_environment = self.env\n",
    "        \n",
    "        # you can use this environment to get information about the\n",
    "        # wavelengths used in the simulation:\n",
    "        wavelength = current_simulation_environment.wavelength\n",
    "        \n",
    "        # however, this wavelength is stored as a numpy array, while\n",
    "        # photontorch expect torch tensors. We need to make a torch\n",
    "        # tensor out of this:\n",
    "        wavelength = torch.tensor(\n",
    "            wavelength, # make this numpy array into a torch tensor\n",
    "            dtype=torch.float64, # keep float64 dtype\n",
    "            device=self.device, # put it on the current device ('cpu' or 'gpu')\n",
    "        )\n",
    "        \n",
    "        # next we implement the dispersion, which will depend on the\n",
    "        # wavelength tensor\n",
    "        neff = self.neff - (wavelength - self.wl0) * (self.ng - self.neff) / self.wl0\n",
    "        \n",
    "        # we have now calculated an neff for each different wavelength.\n",
    "        # let's calculate the phase depending on this neff:\n",
    "        phase = (2 * np.pi * neff * self.length / wavelength) % (2 * np.pi)\n",
    "        \n",
    "        # next, we add the phase correction parameter.\n",
    "        phase = phase + self.phase\n",
    "        # note that in pytorch, inplace operations, such as\n",
    "        # phase += self.phase\n",
    "        # are not allowed, as they obscure the computation graph necessary to \n",
    "        # perform the backpropagation algorithm later on...\n",
    "        \n",
    "        # because pytorch does not allow complex numbers, we split up exp(1j*phase) into\n",
    "        # its real and imaginary part and revert back to the default dtype (usually float32).\n",
    "        cos_phase = torch.cos(phase).to(torch.get_default_dtype())\n",
    "        sin_phase = torch.sin(phase).to(torch.get_default_dtype())\n",
    "\n",
    "        # finally, we can calculate the loss and add it to the phase, which\n",
    "        # gives us the S-matrix parameters\n",
    "        loss = 10 ** (-self.loss * self.length / 20)  # 20 because loss works on power\n",
    "        re = loss * cos_phase\n",
    "        ie = loss * sin_phase\n",
    "\n",
    "        # the last thing to do is to add the S-matrix parameters to the S-matrix:\n",
    "        S[0, :, 0, 1] = S[0, :, 1, 0] = re\n",
    "        S[1, :, 0, 1] = S[1, :, 1, 0] = ie"
   ]
  },
  {
   "cell_type": "markdown",
   "metadata": {},
   "source": [
    "## Directional Coupler"
   ]
  },
  {
   "cell_type": "markdown",
   "metadata": {},
   "source": [
    "The second component we need is a directional coupler. A directional coupler has a single optimizeable parameter: its **coupling**. It introduces no delays."
   ]
  },
  {
   "cell_type": "code",
   "execution_count": null,
   "metadata": {},
   "outputs": [],
   "source": [
    "class DirectionalCoupler(pt.Component):\n",
    "    r\"\"\" A directional coupler is a component with 4 ports that introduces no delays\n",
    "    \n",
    "    Each directional coupler has four ports. They are numbered 0 to 3:\n",
    "\n",
    "    Ports:\n",
    "       3        2\n",
    "        \\______/\n",
    "        /------\\\n",
    "       0        1\n",
    "\n",
    "    \"\"\"\n",
    "\n",
    "    # photontorch requires you to explicitly define the number of \n",
    "    # ports in the component as a class variable:\n",
    "    num_ports = 4\n",
    "\n",
    "    def __init__(self, coupling=0.5, name=None):\n",
    "        \"\"\" creation of a new waveguide \"\"\"\n",
    "        super(DirectionalCoupler, self).__init__(name=name)# always initialize parent first\n",
    "        \n",
    "        # to save the coupling as an optimizable parameter, we could just do the\n",
    "        # same as we did for the waveguide: create a torch tensor and store it as a parameter:\n",
    "        # coupling = torch.tensor(float(coupling))\n",
    "        # self.phase = torch.nn.Parameter(data=coupling)\n",
    "        \n",
    "        # however, this could lead to problems, as this parameter would be unbounded\n",
    "        # and we know for a fact the coupling should be bounded between 0 and 1.\n",
    "        # an easy solution is to define the coupling as the cosine of a hidden parameter\n",
    "        # which we call (with little imagination) `parameter`:\n",
    "        \n",
    "        # create a parameter. The coupling will be derived from the parameter as cos(self.parameter):\n",
    "        parameter = torch.tensor(np.arccos(float(coupling)), dtype=torch.get_default_dtype())\n",
    "        self.parameter = torch.nn.Parameter(data=parameter)\n",
    "    \n",
    "    @property\n",
    "    def coupling(self):\n",
    "        return torch.cos(self.parameter)\n",
    "\n",
    "    def set_S(self, S):\n",
    "        \"\"\" Fill the S-matrix with elements. Rememeber that the S-matrix has a shape\n",
    "        \n",
    "        (2=(real|imag), #wavelengths, #ports, #ports)\n",
    "        \n",
    "        \"\"\"\n",
    "        \n",
    "        t = (1 - self.coupling) ** 0.5\n",
    "        k = self.coupling ** 0.5\n",
    "\n",
    "        # real part scattering matrix (transmission):\n",
    "        S[0, :, 0, 1] = S[0, :, 1, 0] = t # same for all wavelengths\n",
    "        S[0, :, 2, 3] = S[0, :, 3, 2] = t # same for all wavelengths\n",
    "\n",
    "        # imag part scattering matrix (coupling):\n",
    "        S[1, :, 0, 2] = S[1, :, 2, 0] = k # same for all wavelengths\n",
    "        S[1, :, 1, 3] = S[1, :, 3, 1] = k # same for all wavelengths"
   ]
  },
  {
   "cell_type": "markdown",
   "metadata": {},
   "source": [
    "## A first filter: the AllPass"
   ]
  },
  {
   "cell_type": "markdown",
   "metadata": {},
   "source": [
    "As a first \"filter\" we define a simple AllPass filter, which we define as a photontorch `Network` of a `Waveguide` and a `DirectionalCoupler`."
   ]
  },
  {
   "cell_type": "markdown",
   "metadata": {},
   "source": [
    "<img width=\"300\" src=\"data:image/png;base64,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\">"
   ]
  },
  {
   "cell_type": "markdown",
   "metadata": {},
   "source": [
    "## Network Definition"
   ]
  },
  {
   "cell_type": "code",
   "execution_count": null,
   "metadata": {},
   "outputs": [],
   "source": [
    "class AllPass(pt.Network):\n",
    "    def __init__(\n",
    "        self,\n",
    "        ring_length=1e-5, #[um] length of the ring\n",
    "        ring_loss=1, #[dB]: roundtrip loss in the ring\n",
    "        name=None\n",
    "    ):\n",
    "        super(AllPass, self).__init__(name=name) # always initialize parent first\n",
    "        \n",
    "        # handle arguments:\n",
    "        self.ring_length = float(ring_length)\n",
    "        self.ring_loss = float(ring_loss),\n",
    "        \n",
    "        # define subcomponents\n",
    "        self.source = pt.Source()\n",
    "        self.detector = pt.Detector()\n",
    "        self.dc = DirectionalCoupler()\n",
    "        self.wg = Waveguide(length=ring_length, loss=ring_loss/ring_length)\n",
    "\n",
    "        # link subcomponents together:\n",
    "\n",
    "        # The `link` method takes an arbitrary number of string arguments. \n",
    "        # Each argument contains the component name together with a port numbe\n",
    "        # in front of and a port number behind the name (e.g. `\"0:wg:1\"`).\n",
    "        # The port number behind the name will connect to the port number \n",
    "        # in front of the next name. The first component does not need \n",
    "        # a port number in front of it, while the last component does \n",
    "        # not need a port number behind.\n",
    "\n",
    "        self.link('source:0', '0:dc:2', '0:wg:1', '3:dc:1', '0:detector')"
   ]
  },
  {
   "cell_type": "markdown",
   "metadata": {},
   "source": [
    "## Simulation"
   ]
  },
  {
   "cell_type": "markdown",
   "metadata": {},
   "source": [
    "First, we have to create an instance of our network"
   ]
  },
  {
   "cell_type": "code",
   "execution_count": null,
   "metadata": {},
   "outputs": [],
   "source": [
    "allpass = AllPass()"
   ]
  },
  {
   "cell_type": "markdown",
   "metadata": {},
   "source": [
    "We can simulate the AllPass filter by just using it as a normal function on a source array. What you will get out is the detected array. If you are just simulating a constant source (which obviously is the case in the frequency domain), one can just add a source amplitude:"
   ]
  },
  {
   "cell_type": "code",
   "execution_count": null,
   "metadata": {},
   "outputs": [],
   "source": [
    "detected = allpass(source=1)\n",
    "print(detected.shape)"
   ]
  },
  {
   "cell_type": "markdown",
   "metadata": {},
   "source": [
    "We see that we get a 4D array out. This is always the case. Photontorch always returns 4D arrays. The shape of the array corresponds to\n",
    "```\n",
    "    (# timesteps, # wavelengths, # detectors, # parallel simulations)\n",
    "```\n",
    "In this case, we only simulated for a single timestep, as we are doing a frequency domain simulation. Moreover, we simulated for 1001 wavelengths and we had a single detector in the network. The number of parallel simulations can be useful for training purposes, as we will see later."
   ]
  },
  {
   "cell_type": "markdown",
   "metadata": {},
   "source": [
    "Each network also has a plotting function that smartly handles the 4D detected array and gives you the most useful plot possible:"
   ]
  },
  {
   "cell_type": "code",
   "execution_count": null,
   "metadata": {},
   "outputs": [],
   "source": [
    "allpass.plot(detected)\n",
    "plt.show()"
   ]
  },
  {
   "cell_type": "markdown",
   "metadata": {},
   "source": [
    "## Optimization"
   ]
  },
  {
   "cell_type": "markdown",
   "metadata": {},
   "source": [
    "This is neat, but what if we want to filter out the wavelength at 1550nm: We can shift the transmission minimum to 1550nm as follows:"
   ]
  },
  {
   "cell_type": "markdown",
   "metadata": {},
   "source": [
    "First we define a target function for the transmission at 1550nm. We want it to be as close as possible to 0, so let's just take 0:"
   ]
  },
  {
   "cell_type": "code",
   "execution_count": null,
   "metadata": {},
   "outputs": [],
   "source": [
    "target = torch.tensor(0.0)"
   ]
  },
  {
   "cell_type": "markdown",
   "metadata": {},
   "source": [
    "Next, we choose a loss to be optimized. Let's take the [MSE loss](https://en.wikipedia.org/wiki/Mean_squared_error):"
   ]
  },
  {
   "cell_type": "code",
   "execution_count": null,
   "metadata": {},
   "outputs": [],
   "source": [
    "lossfunc = torch.nn.MSELoss()"
   ]
  },
  {
   "cell_type": "markdown",
   "metadata": {},
   "source": [
    "Finally, we need to choose an optimizer to find the minimum in the loss for us. PyTorch has a [whole collection](https://pytorch.org/docs/stable/optim.html) of optimizers readily available. They are all based on a version of gradient descent. However, if you do not know which one to use, the `Adam` optimizer is always a good choice:"
   ]
  },
  {
   "cell_type": "code",
   "execution_count": null,
   "metadata": {},
   "outputs": [],
   "source": [
    "# to define an optimizer, one needs to provide the parameters to optimize\n",
    "# and the learning rate of the optimizer. \n",
    "# the learning rate is an important parameter that needs to be tuned manually to \n",
    "# the right value. A too large learning rate will result in an optimizer that cannot find the loss\n",
    "# a too small value may result in a very long optimization time:\n",
    "optimizer = torch.optim.Adam([allpass.wg.phase], lr=0.03) # let's just optimize the phase of the ring"
   ]
  },
  {
   "cell_type": "markdown",
   "metadata": {},
   "source": [
    "Furthermore, for this optimization, we will just simulate at a single wavelength: 1550nm. We can define a new environment. Also, we will use this environment for training purposes so **one needs to allow gradient tracking**:"
   ]
  },
  {
   "cell_type": "code",
   "execution_count": null,
   "metadata": {},
   "outputs": [],
   "source": [
    "train_env = pt.Environment(\n",
    "    wl=1.55e-6, #[m]\n",
    "    freqdomain=True, # we will be doing frequency domain simulations\n",
    "    grad=True, # allow gradient tracking\n",
    ")"
   ]
  },
  {
   "cell_type": "markdown",
   "metadata": {},
   "source": [
    "Note that this environment is not yet enabled. One can do this globally with the `pt.set_environment` function. However, we will choose to only *temporarily* use this environment by using a **context-manager** or **with-block**:"
   ]
  },
  {
   "cell_type": "code",
   "execution_count": null,
   "metadata": {},
   "outputs": [],
   "source": [
    "with train_env: # temporarily override the global environment\n",
    "    # we train for 400 training steps\n",
    "    for i in tqdm(range(400)):\n",
    "        optimizer.zero_grad() # set all the gradients to zero\n",
    "        result = torch.squeeze(allpass(source=1)) # squeeze: 4D -> 0D\n",
    "        loss = lossfunc(result, target) # MSE loss\n",
    "        loss.backward() # calculate the gradients\n",
    "        optimizer.step() # use the calculated gradients to perform an optimization step\n",
    "\n",
    "print(\"loss: %.5f\"%loss.item())"
   ]
  },
  {
   "cell_type": "markdown",
   "metadata": {},
   "source": [
    "Now that the allpass filter is trained to have minimal transmission at 1550 nm, Let's have a look by simulating it again:"
   ]
  },
  {
   "cell_type": "code",
   "execution_count": null,
   "metadata": {},
   "outputs": [],
   "source": [
    "detected = allpass(source=1)\n",
    "allpass.plot(detected)\n",
    "plt.plot([1550,1550],[0,1])\n",
    "plt.ylim(0,1)\n",
    "plt.show()"
   ]
  },
  {
   "cell_type": "markdown",
   "metadata": {},
   "source": [
    "We clearly found a minimum at 1550 nm. \n",
    "\n",
    "However, we can do better! What if we decide to also optimize the coupling of the directional coupler? Let's have a look:"
   ]
  },
  {
   "cell_type": "code",
   "execution_count": null,
   "metadata": {},
   "outputs": [],
   "source": [
    "# let's just optimize both the phase and the coupling\n",
    "optimizer = torch.optim.Adam([allpass.wg.phase, allpass.dc.parameter], lr=0.03)"
   ]
  },
  {
   "cell_type": "markdown",
   "metadata": {},
   "source": [
    "**Sidenote**: in stead of explicitly listing all the parameters in the optimization, one can also use the `.parameters()` method, to get all optimizable parameters of the network. For the creation of the optimizer above, this would be:\n",
    "```python\n",
    "optimizer = torch.optim.Adam(allpass.parameters(), lr=0.03)\n",
    "```"
   ]
  },
  {
   "cell_type": "code",
   "execution_count": null,
   "metadata": {},
   "outputs": [],
   "source": [
    "with train_env: # temporarily override the global environment\n",
    "    # we train for 400 training steps\n",
    "    for i in tqdm(range(400)):\n",
    "        optimizer.zero_grad() # set all the gradients to zero\n",
    "        result = torch.squeeze(allpass(source=1)) # squeeze: 4D -> 0D\n",
    "        loss = lossfunc(result, target) # MSE loss\n",
    "        loss.backward() # calculate the gradients\n",
    "        optimizer.step() # use the calculated gradients to perform an optimization step\n",
    "\n",
    "print(\"loss: %.5f\"%loss.item())"
   ]
  },
  {
   "cell_type": "markdown",
   "metadata": {},
   "source": [
    "By optimizing both the phase in the ring and the coupling to the ring, we can get 0 loss!"
   ]
  },
  {
   "cell_type": "code",
   "execution_count": null,
   "metadata": {},
   "outputs": [],
   "source": [
    "detected = allpass(source=1)\n",
    "allpass.plot(detected)\n",
    "plt.plot([1550,1550],[0,1])\n",
    "plt.ylim(0,1)\n",
    "plt.show()"
   ]
  },
  {
   "cell_type": "markdown",
   "metadata": {},
   "source": [
    "## Extra: Time domain simulation"
   ]
  },
  {
   "cell_type": "markdown",
   "metadata": {},
   "source": [
    "As an aside, one can also do time domain simulations. Let's do a time domain simulation of the optimized ring at 3 different wavelengths simultaneously:"
   ]
  },
  {
   "cell_type": "code",
   "execution_count": null,
   "metadata": {},
   "outputs": [],
   "source": [
    "# define the simulation environment:\n",
    "time_domain_env = pt.Environment(\n",
    "    time = np.linspace(0, 1e-11, 1000),\n",
    "    wavelength = [1.547e-6, 1.550e-6, 1.560e-6], #[m]\n",
    "    freqdomain=False, # we will be doing a time domain simulation\n",
    ")"
   ]
  },
  {
   "cell_type": "code",
   "execution_count": null,
   "metadata": {},
   "outputs": [],
   "source": [
    "with time_domain_env:\n",
    "    detected = allpass(source=1)\n",
    "    allpass.plot(detected)"
   ]
  },
  {
   "cell_type": "markdown",
   "metadata": {},
   "source": [
    "## Coupled Resonator Optical Waveguide"
   ]
  },
  {
   "cell_type": "markdown",
   "metadata": {},
   "source": [
    "After this introduction, we can go on to define a real filter: a CROW:"
   ]
  },
  {
   "cell_type": "code",
   "execution_count": null,
   "metadata": {},
   "outputs": [],
   "source": [
    "class Crow(pt.Network):\n",
    "    def __init__(\n",
    "        self,\n",
    "        num_rings=1,\n",
    "        ring_length=1e-5, #[m]\n",
    "        loss=1000, #[dB/m]\n",
    "        neff=2.34,\n",
    "        ng=3.4,\n",
    "        wl0=1.55e-6,\n",
    "        random_parameters=False,\n",
    "        name=None\n",
    "    ):\n",
    "        super(Crow, self).__init__(name=name) # always initialize parent first\n",
    "        \n",
    "        # handle variables\n",
    "        self.num_rings = int(num_rings)\n",
    "        \n",
    "        # define source and detectors:\n",
    "        self.source = pt.Source()\n",
    "        self.through = pt.Detector()\n",
    "        self.drop = pt.Detector()\n",
    "        self.add = pt.Detector()\n",
    "        \n",
    "        # if the random_parameters flag is set, we will initialize with \n",
    "        # random parameters, else, we will initialize with parameters\n",
    "        # set to zero:\n",
    "        random_coupling = np.random.rand if random_parameters else (lambda : 0.5)\n",
    "        random_phase = (lambda : 2*np.pi*np.random.rand()) if random_parameters else (lambda :0)\n",
    "        \n",
    "        # define directional couplers\n",
    "        for i in range(self.num_rings + 1):\n",
    "            self.add_component(\n",
    "                name=\"dc%i\"%i,\n",
    "                comp=DirectionalCoupler(\n",
    "                    coupling=random_coupling(), # initialize with random coupling\n",
    "                )\n",
    "            )\n",
    "        \n",
    "        # define waveguides between directional couplers:\n",
    "        # let's only make the bottom waveguide trainable.\n",
    "        for i in range(self.num_rings):\n",
    "            self.add_component(\n",
    "                name=\"top_wg%i\"%i,\n",
    "                comp=Waveguide(\n",
    "                    length=0.5*ring_length,\n",
    "                    loss=loss,\n",
    "                    neff=neff,\n",
    "                    ng=ng,\n",
    "                    wl0=wl0,\n",
    "                    phase=0,\n",
    "                    trainable=False,\n",
    "                )\n",
    "            )\n",
    "            self.add_component(\n",
    "                name=\"btm_wg%i\"%i,\n",
    "                comp=Waveguide(\n",
    "                    length=0.5*ring_length,\n",
    "                    loss=loss,\n",
    "                    neff=neff,\n",
    "                    ng=ng,\n",
    "                    wl0=wl0,\n",
    "                    phase=random_phase(), # initialize with random phase\n",
    "                    trainable=True,\n",
    "                )\n",
    "            )\n",
    "        \n",
    "        # lets now define the links\n",
    "        link1 = [\"source:0\"]\n",
    "        link2 = [\"through:0\"]\n",
    "        for i in range(self.num_rings):\n",
    "            link1 += [\"0:dc%i:3\"%i, \"0:top_wg%i:1\"%i]\n",
    "            link2 += [\"1:dc%i:2\"%i, \"0:btm_wg%i:1\"%i]\n",
    "        \n",
    "        if self.num_rings % 2 == 1: # top=drop, btm=add\n",
    "            link1 += [\"0:dc%i:3\"%(self.num_rings), \"0:drop\"]\n",
    "            link2 += [\"1:dc%i:2\"%(self.num_rings), \"0:add\"]\n",
    "        else: # top=add, btm=drop\n",
    "            link1 += [\"0:dc%i:3\"%(self.num_rings), \"0:add\"]\n",
    "            link2 += [\"1:dc%i:2\"%(self.num_rings), \"0:drop\"]\n",
    "            \n",
    "        self.link(*link1)\n",
    "        self.link(*link2)"
   ]
  },
  {
   "cell_type": "markdown",
   "metadata": {},
   "source": [
    "## Single ring CROW:"
   ]
  },
  {
   "cell_type": "code",
   "execution_count": null,
   "metadata": {},
   "outputs": [],
   "source": [
    "crow = Crow(num_rings=1)\n",
    "detected = crow(source=1)\n",
    "crow.plot(detected)\n",
    "plt.show()"
   ]
  },
  {
   "cell_type": "markdown",
   "metadata": {},
   "source": [
    "## Multiple ring CROW:"
   ]
  },
  {
   "cell_type": "code",
   "execution_count": null,
   "metadata": {},
   "outputs": [],
   "source": [
    "from ipywidgets import interact, IntSlider\n",
    "@interact(num_rings=IntSlider(min=1, max=10, step=1))\n",
    "def plot_detected(num_rings=5):\n",
    "    crow = Crow(num_rings=num_rings)\n",
    "    detected = crow(source=1)\n",
    "    crow.plot(detected)\n",
    "    plt.show()"
   ]
  },
  {
   "cell_type": "markdown",
   "metadata": {},
   "source": [
    "## Optimizing a CROW\n",
    "We will optimize a crow with 10 rings and randomly initialized parameters"
   ]
  },
  {
   "cell_type": "code",
   "execution_count": null,
   "metadata": {},
   "outputs": [],
   "source": [
    "device = 'cuda' # 'cpu' or 'cuda'\n",
    "crow = crow = Crow(num_rings=10, random_parameters=False).to(device)"
   ]
  },
  {
   "cell_type": "markdown",
   "metadata": {},
   "source": [
    "We will also do a simulation on a smaller range than the globally set environment:"
   ]
  },
  {
   "cell_type": "code",
   "execution_count": null,
   "metadata": {},
   "outputs": [],
   "source": [
    "train_env = pt.Environment(\n",
    "    wavelength = 1e-6*np.linspace(1.53, 1.58, 1001), #[m]\n",
    "    freqdomain=True, # we will be doing frequency domain simulations\n",
    "    grad=True, # we need to enable gradients to be able to optimize\n",
    ")"
   ]
  },
  {
   "cell_type": "markdown",
   "metadata": {},
   "source": [
    "lets have a look at an initial simulation (maybe try the same for the `through` port as well):"
   ]
  },
  {
   "cell_type": "code",
   "execution_count": null,
   "metadata": {},
   "outputs": [],
   "source": [
    "# over the original domain\n",
    "detected = crow(source=1)[0,:,0,0] # single timestep, all wls, (drop detector=0; through detector=2), single batch\n",
    "crow.plot(detected)\n",
    "plt.show()\n",
    "\n",
    "# over the trainin domain:\n",
    "with train_env:\n",
    "    detected = crow(source=1)[0,:,0,0] # single timestep, all wls, (drop detector=0; through detector=2), single batch\n",
    "    crow.plot(detected)\n",
    "    plt.show()"
   ]
  },
  {
   "cell_type": "markdown",
   "metadata": {},
   "source": [
    "Let's now define a target that is one over a range of 10 nm and zero over the rest:"
   ]
  },
  {
   "cell_type": "code",
   "execution_count": null,
   "metadata": {},
   "outputs": [],
   "source": [
    "target = np.zeros_like(train_env.wavelength)\n",
    "target[train_env.wavelength > 1.55e-6] = 1\n",
    "target[train_env.wavelength > 1.56e-6] = 0\n",
    "target = torch.tensor(target, dtype=torch.get_default_dtype(), device=device)\n",
    "crow.plot(target)\n",
    "plt.show()"
   ]
  },
  {
   "cell_type": "markdown",
   "metadata": {},
   "source": [
    "Finally, we need to define an optimizer that optimizes all parameters of the network:"
   ]
  },
  {
   "cell_type": "code",
   "execution_count": null,
   "metadata": {},
   "outputs": [],
   "source": [
    "optimizer = torch.optim.Adam(crow.parameters(), lr=0.01)"
   ]
  },
  {
   "cell_type": "markdown",
   "metadata": {},
   "source": [
    "We can now start the training"
   ]
  },
  {
   "cell_type": "code",
   "execution_count": null,
   "metadata": {},
   "outputs": [],
   "source": [
    "range_ = tqdm(range(150)) # we train for 150 training steps\n",
    "with train_env: # temporarily override the global environment\n",
    "    for i in range_:\n",
    "        crow.initialize()\n",
    "        optimizer.zero_grad() # set all the gradients to zero\n",
    "        result = crow(source=1)[0,:,0,0] # single timestep, all wls, (drop detector=0; through detector=2), single batch\n",
    "        loss = lossfunc(result, target) # MSE loss\n",
    "        loss.backward() # calculate the gradients\n",
    "        optimizer.step() # use the calculated gradients to perform an optimization step\n",
    "        range_.set_postfix(loss=loss.item())\n",
    "\n",
    "print(\"loss: %.5f\"%loss.item())"
   ]
  },
  {
   "cell_type": "code",
   "execution_count": null,
   "metadata": {},
   "outputs": [],
   "source": [
    "# over the training domain:\n",
    "with train_env:\n",
    "    detected = crow(source=1)\n",
    "    crow.plot(target, label=\"target\")\n",
    "    crow.plot(detected[:,:,:,:])\n",
    "    plt.show()"
   ]
  }
 ],
 "metadata": {
  "kernelspec": {
   "display_name": "Python 3 (ipykernel)",
   "language": "python",
   "name": "python3"
  },
  "language_info": {
   "codemirror_mode": {
    "name": "ipython"
   },
   "file_extension": ".py",
   "mimetype": "text/x-python",
   "name": "python",
   "nbconvert_exporter": "python"
  }
 },
 "nbformat": 4,
 "nbformat_minor": 4
}
