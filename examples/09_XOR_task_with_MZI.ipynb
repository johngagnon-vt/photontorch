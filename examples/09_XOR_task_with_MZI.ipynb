{
 "cells": [
  {
   "cell_type": "markdown",
   "metadata": {},
   "source": [
    "# Optimize an MZI in the time domain to perform the XOR on two subsequent bits"
   ]
  },
  {
   "cell_type": "markdown",
   "metadata": {},
   "source": [
    "## Imports"
   ]
  },
  {
   "cell_type": "code",
   "execution_count": null,
   "metadata": {
    "is_executing": true
   },
   "outputs": [],
   "source": [
    "import torch\n",
    "# Photontorch\n",
    "import sys\n",
    "sys.path.append('../')\n",
    "\n",
    "import numpy as np\n",
    "import photontorch as pt\n",
    "import matplotlib.pyplot as plt\n",
    "\n",
    "from ipywidgets import interact\n",
    "from tqdm.notebook import trange"
   ]
  },
  {
   "cell_type": "markdown",
   "metadata": {},
   "source": [
    "## Parameters & Settings"
   ]
  },
  {
   "cell_type": "code",
   "execution_count": null,
   "metadata": {},
   "outputs": [],
   "source": [
    "c = 299792458.0 #[m/s] speed of light\n",
    "Rb = 20e9 #[1/s] bitrate\n",
    "Rs = 320e9 #[1/s] samplerate\n",
    "fc = 20e9 #[1/s] cutoff frequency for bit generation\n",
    "wl0 = 1550e-9 #[m] center wavelength\n",
    "neff = 2.34 #[1] effective index\n",
    "ng = 3.4 #[1] group index\n",
    "N = 100 #[1] number of bits per bit stream\n",
    "B = 10 #[1] number of bit streams in training batch\n",
    "Str, Sva, Ste = (1, 2, 3) #[1] train seed, validation seed, test seed\n",
    "Lr = (1/Rb) * (c/ng) #[m] reference length (distance the signal travels during one bit period)\n",
    "device = torch.device(\"cpu\") # default device used\n",
    "torch.set_default_dtype(torch.float32) # default dtype used\n",
    "torch.manual_seed(123) # pytorch seed\n",
    "np.random.seed(42) # numpy seed"
   ]
  },
  {
   "cell_type": "markdown",
   "metadata": {},
   "source": [
    "## Bit generator"
   ]
  },
  {
   "cell_type": "code",
   "execution_count": null,
   "metadata": {},
   "outputs": [],
   "source": [
    "class BitGenerator(np.random.RandomState):\n",
    "    def __call__(self, N, B=1):\n",
    "        \"\"\" generate a bit sequence\n",
    "        \n",
    "        Args:\n",
    "            N: number of bits per sequence\n",
    "            B: number of sequences in batch\n",
    "        \"\"\"\n",
    "        bits = self.rand(N,B) > 0.5\n",
    "        return bits"
   ]
  },
  {
   "cell_type": "markdown",
   "metadata": {},
   "source": [
    "## Bit operations"
   ]
  },
  {
   "cell_type": "code",
   "execution_count": null,
   "metadata": {},
   "outputs": [],
   "source": [
    "def COPY(bits):\n",
    "    return bits.copy()\n",
    "def XOR(bits):\n",
    "    return (np.concatenate([bits, np.zeros_like(bits[-1:])], 0) ^ np.concatenate([np.zeros_like(bits[:1]), bits], 0))[:-1]\n",
    "def AND(bits):\n",
    "    return (np.concatenate([bits, np.zeros_like(bits[-1:])], 0) & np.concatenate([np.zeros_like(bits[:1]), bits], 0))[:-1]\n",
    "\n",
    "TARGET = XOR"
   ]
  },
  {
   "cell_type": "markdown",
   "metadata": {},
   "source": [
    "## Generate Streams"
   ]
  },
  {
   "cell_type": "code",
   "execution_count": null,
   "metadata": {},
   "outputs": [],
   "source": [
    "bits = BitGenerator(seed=23)(10)\n",
    "streamgen = pt.BitStreamGenerator(bitrate=Rb, samplerate=Rs, cutoff_frequency=fc, device=device)\n",
    "stream = streamgen(bits)\n",
    "target = streamgen(TARGET(bits))\n",
    "t = np.arange(stream.shape[0])*(1/Rs)\n",
    "plt.plot(1e9*t, stream.data.cpu().numpy())\n",
    "plt.plot(1e9*t, target.data.cpu().numpy())\n",
    "plt.xlabel(\"t [ns]\")\n",
    "plt.show()"
   ]
  },
  {
   "cell_type": "code",
   "execution_count": null,
   "metadata": {},
   "outputs": [],
   "source": [
    "# train streams\n",
    "trbits = BitGenerator(seed=Str)(N, B) # N bits per train stream, B train streams per batch.\n",
    "trstream = streamgen(trbits)\n",
    "trtarget = streamgen(TARGET(trbits))**2\n",
    "t = np.arange(trstream.shape[0])*(1/Rs)\n",
    "\n",
    "# validation streams\n",
    "vabits = BitGenerator(seed=Sva)(N, 1) # N bits per validation stream, 1 validation stream per batch.\n",
    "vastream = streamgen(vabits)\n",
    "vatarget = streamgen(TARGET(vabits))**2\n",
    "\n",
    "# test streams\n",
    "tebits = BitGenerator(seed=Ste)(N*B, 1) # N*B bits per teststream\n",
    "testream = streamgen(tebits)\n",
    "tetarget = streamgen(TARGET(tebits))**2"
   ]
  },
  {
   "cell_type": "markdown",
   "metadata": {},
   "source": [
    "## Simple MZI Circuit"
   ]
  },
  {
   "cell_type": "code",
   "execution_count": null,
   "metadata": {},
   "outputs": [],
   "source": [
    "class Circuit(pt.Network):\n",
    "    def __init__(self):\n",
    "        super().__init__()\n",
    "        self.src = pt.Source()\n",
    "        self.det = pt.Detector()\n",
    "        self.trm1 = self.trm2 = pt.Term()\n",
    "        self.dc1 = pt.DirectionalCoupler(coupling=np.random.rand(), trainable=True)\n",
    "        self.dc2 = pt.DirectionalCoupler(coupling=np.random.rand(), trainable=True)\n",
    "        self.wg1 = pt.Waveguide(length=2*Lr, phase=2*np.pi*np.random.rand(), loss=0.0, trainable=True)\n",
    "        self.wg2 = pt.Waveguide(length=1*Lr, phase=2*np.pi*np.random.rand(), loss=0.0, trainable=True)\n",
    "        self.link(\"trm1:0\", \"3:dc1:2\", \"0:wg1:1\", \"3:dc2:2\", \"0:trm2\")\n",
    "        self.link( \"src:0\", \"0:dc1:1\", \"0:wg2:1\", \"0:dc2:1\", \"0:det\")"
   ]
  },
  {
   "cell_type": "markdown",
   "metadata": {},
   "source": [
    "## Training"
   ]
  },
  {
   "cell_type": "markdown",
   "metadata": {},
   "source": [
    "initial plot (to find a good latency)"
   ]
  },
  {
   "cell_type": "code",
   "execution_count": null,
   "metadata": {},
   "outputs": [],
   "source": [
    "nw = Circuit()\n",
    "with pt.Environment(t=t):\n",
    "    detected = nw(source=vastream.rename(\"t\", \"b\"))[:,0,0,:] # lower dimensional sources should have named dimensions\n",
    "    \n",
    "mse = pt.MSELoss(latency=0.0, warmup=0.0, bitrate=Rb, samplerate=Rs)\n",
    "@interact(latency=(0,3,0.1))\n",
    "def _(latency=1.0):\n",
    "    mse.plot(vastream, label=\"input\")\n",
    "    mse.plot(vatarget, label=\"target\")\n",
    "    mse.plot(detected, latency=latency, label=\"detected\")\n",
    "    plt.legend()\n",
    "    plt.xlim(0,1)\n",
    "    plt.show()"
   ]
  },
  {
   "cell_type": "code",
   "execution_count": null,
   "metadata": {},
   "outputs": [],
   "source": [
    "mse = pt.MSELoss(latency=1.0, warmup=0.0, bitrate=Rb, samplerate=Rs)\n",
    "ber = pt.BERLoss(latency=1.0, threshold=0.5, warmup=0.0, bitrate=Rb, samplerate=Rs)"
   ]
  },
  {
   "cell_type": "code",
   "execution_count": null,
   "metadata": {},
   "outputs": [],
   "source": [
    "scale = torch.tensor(1.0, requires_grad=True)\n",
    "bias = torch.tensor(0.0, requires_grad=True)\n",
    "optim = torch.optim.Adam([scale, bias, *nw.parameters()], lr=0.1)\n",
    "range_ = trange(40)\n",
    "with pt.Environment(t=t, enable_grad=True):\n",
    "    for i in range_:\n",
    "        optim.zero_grad()\n",
    "        trdet = nw(source=trstream.rename(\"t\", \"b\"))[:,0,0,:]*scale + bias\n",
    "        loss = mse(trdet, trtarget)\n",
    "        loss.backward()\n",
    "        optim.step()\n",
    "        range_.set_postfix(loss=loss.item(), ber=ber(trdet, trtarget))"
   ]
  },
  {
   "cell_type": "markdown",
   "metadata": {},
   "source": [
    "Let's take a look at the final result:"
   ]
  },
  {
   "cell_type": "code",
   "execution_count": null,
   "metadata": {},
   "outputs": [],
   "source": [
    "with pt.Environment(t=t):\n",
    "    vadet = nw(source=vastream.rename(\"t\", \"b\"))[:,0,0,:]\n",
    "    ber_err = ber(vadet, vatarget, threshold=float((0.5-bias)/scale))\n",
    "    mse_err = mse(scale*vadet+bias, vatarget)\n",
    "\n",
    "    print(f\"ber:\\t{ber_err}\")\n",
    "    print(f\"mse:\\t{mse_err.item()}\")\n",
    "\n",
    "    mse.plot(vadet)\n",
    "    mse.plot(vatarget, latency=0.0)\n",
    "    plt.xlim(-0,1.15)\n",
    "    plt.xlabel(\"t [ps]\")\n",
    "    plt.show()"
   ]
  }
 ],
 "metadata": {
  "kernelspec": {
   "display_name": "Python 3 (ipykernel)",
   "language": "python",
   "name": "python3"
  },
  "language_info": {
   "codemirror_mode": {
    "name": "ipython"
   },
   "file_extension": ".py",
   "mimetype": "text/x-python",
   "name": "python",
   "nbconvert_exporter": "python"
  }
 },
 "nbformat": 4,
 "nbformat_minor": 4
}
