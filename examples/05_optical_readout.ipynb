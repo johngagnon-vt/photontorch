{
 "cells": [
  {
   "cell_type": "markdown",
   "metadata": {},
   "source": [
    "# Optimize an optical readout based on ring resonators"
   ]
  },
  {
   "cell_type": "markdown",
   "metadata": {},
   "source": [
    "## Imports"
   ]
  },
  {
   "cell_type": "code",
   "execution_count": null,
   "metadata": {},
   "outputs": [],
   "source": [
    "import torch\n",
    "# Photontorch\n",
    "import sys\n",
    "sys.path.append('../')\n",
    "\n",
    "import numpy as np\n",
    "import matplotlib.pyplot as plt\n",
    "from tqdm.notebook import tqdm, trange\n",
    "from numpy.fft import fft, ifft, fftfreq\n",
    "from scipy.signal import butter, lfilter\n",
    "\n",
    "import photontorch as pt\n",
    "\n",
    "torch.manual_seed(33)\n",
    "np.random.seed(34)"
   ]
  },
  {
   "cell_type": "markdown",
   "metadata": {},
   "source": [
    "## Parameters"
   ]
  },
  {
   "cell_type": "code",
   "execution_count": null,
   "metadata": {},
   "outputs": [],
   "source": [
    "cuda = torch.cuda.is_available()\n",
    "bitrate = 50e9 # bps\n",
    "dt = 1e-14 # new sampling timestep\n",
    "samplerate = 1/dt # new sampling rate\n",
    "angles = np.pi*np.array([0.5,0,-0.5,-0.5,-0.5,1,1]) # output angles of the output waveguides\n",
    "power = 1e-3 #[W]\n",
    "latencies = np.arange(0.01,2.5,0.1)\n",
    "num_bits = 500\n",
    "\n",
    "c = 299792458.0 #[m/s] speed of light\n",
    "neff = 2.86 # effective index\n",
    "ng = 3.0 # group index of waveguide\n",
    "wl0 = 1.55e-6\n",
    "\n",
    "# Set global environment\n",
    "environment = pt.Environment(\n",
    "    wl=np.linspace(1.549e-6,1.551e-6,10000),\n",
    "    freqdomain=True,\n",
    ")\n",
    "pt.set_environment(environment);\n",
    "pt.current_environment()"
   ]
  },
  {
   "cell_type": "markdown",
   "metadata": {},
   "source": [
    "## Single Weight (AllPass filter)"
   ]
  },
  {
   "cell_type": "markdown",
   "metadata": {},
   "source": [
    "First we define a simple all pass filter as a network:"
   ]
  },
  {
   "cell_type": "code",
   "execution_count": null,
   "metadata": {},
   "outputs": [],
   "source": [
    "class AllPass(pt.Network):\n",
    "    def __init__(self, extra_ring_phase=0):\n",
    "        super(AllPass, self).__init__()\n",
    "        ring_length = 425.8734943010671*wl0/ng # on resonance\n",
    "        self.dc = pt.DirectionalCoupler(coupling=0.1, trainable=False)\n",
    "        self.wg = pt.Waveguide(length=ring_length, loss=1500, neff=neff, ng=ng, wl0=wl0, phase=extra_ring_phase, trainable=True)\n",
    "        self.wg_out = pt.Waveguide(length=0, loss=0, neff=neff, ng=ng, wl0=wl0, phase=2*np.pi*np.random.rand(), trainable=False)\n",
    "        self.link(0, '0:dc:2','0:wg:1','3:dc:1','0:wg_out:1', 1)"
   ]
  },
  {
   "cell_type": "markdown",
   "metadata": {},
   "source": [
    "We see that this allpass filter is on resonance:"
   ]
  },
  {
   "cell_type": "code",
   "execution_count": null,
   "metadata": {},
   "outputs": [],
   "source": [
    "with pt.Network() as nw:\n",
    "    nw.ap = AllPass()\n",
    "    nw.s = pt.Source()\n",
    "    nw.d = pt.Detector()\n",
    "    nw.link('s:0','0:ap:1','0:d')\n",
    "    \n",
    "\n",
    "detected = nw(source=1)\n",
    "nw.plot(detected)\n",
    "    \n",
    "plt.xticks([1549,wl0*1e9,1551], [1549,'$\\lambda_0$',1551]); plt.yticks([0.1,1])\n",
    "plt.grid(True)\n",
    "plt.show()"
   ]
  },
  {
   "cell_type": "markdown",
   "metadata": {},
   "source": [
    "## Train Network"
   ]
  },
  {
   "cell_type": "markdown",
   "metadata": {},
   "source": [
    "We can train this all-pass filter to have a specific transmission."
   ]
  },
  {
   "cell_type": "code",
   "execution_count": null,
   "metadata": {},
   "outputs": [],
   "source": [
    "target = torch.tensor(0.9)\n",
    "optimizer = torch.optim.Adam(nw.parameters(), lr=0.03)\n",
    "lossfunc = torch.nn.MSELoss()\n",
    "\n",
    "rng = trange(400)\n",
    "with pt.Environment(wl=wl0, freqdomain=True, grad=True):\n",
    "    for i in rng:\n",
    "        optimizer.zero_grad()\n",
    "        result = nw(source=1)[-1,0,0,0] # last timestep, only wavelength, only detector, only batch\n",
    "        loss = lossfunc(result, target)\n",
    "        loss.backward()\n",
    "        optimizer.step()\n",
    "        rng.set_postfix(result='%.6f'%result.item())\n",
    "\n",
    "detected = nw(source=1)\n",
    "nw.plot(detected)\n",
    "plt.xticks([1549,wl0*1e9,1551], [1549,'$\\lambda_0$',1551]); plt.yticks([0.1,1])\n",
    "plt.grid(True)\n",
    "plt.show()"
   ]
  },
  {
   "cell_type": "markdown",
   "metadata": {},
   "source": [
    "## Multiple Weights (Collection of AllPass Filters)"
   ]
  },
  {
   "cell_type": "code",
   "execution_count": null,
   "metadata": {},
   "outputs": [],
   "source": [
    "class MultipleAllPasses(pt.Network):\n",
    "    def __init__(self, num_allpasses):\n",
    "        super(MultipleAllPasses, self).__init__()\n",
    "        for i in range(num_allpasses):\n",
    "            self.add_component('ap%i'%i, AllPass(extra_ring_phase=0.25*np.random.rand()))\n",
    "            self.add_component('s%i'%i, pt.Source())\n",
    "            self.add_component('d%i'%i, pt.Detector())\n",
    "            self.link('s%i:0'%i, '0:ap%i:1'%i, '0:d%i'%i)"
   ]
  },
  {
   "cell_type": "markdown",
   "metadata": {},
   "source": [
    "All rings in the allpass collections are initialized close to resonance:"
   ]
  },
  {
   "cell_type": "code",
   "execution_count": null,
   "metadata": {},
   "outputs": [],
   "source": [
    "nw = MultipleAllPasses(4)\n",
    "nw.plot(nw(source=1))\n",
    "plt.xticks([1549,wl0*1e9,1551], [1549,'$\\lambda_0$',1551]); plt.yticks([0.1,1])\n",
    "plt.grid(True)\n",
    "plt.show()"
   ]
  },
  {
   "cell_type": "markdown",
   "metadata": {},
   "source": [
    "## Train Network"
   ]
  },
  {
   "cell_type": "markdown",
   "metadata": {},
   "source": [
    "We can train this collection of allpasses to have any kind of weight:"
   ]
  },
  {
   "cell_type": "code",
   "execution_count": null,
   "metadata": {},
   "outputs": [],
   "source": [
    "target = torch.tensor([0.9,0.5,0.1,0.7])\n",
    "optimizer = torch.optim.Adam(nw.parameters(), lr=0.03)\n",
    "lossfunc = torch.nn.MSELoss()\n",
    "\n",
    "rng = trange(400)\n",
    "with pt.Environment(wl=wl0, freqdomain=True, grad=True):\n",
    "    for i in rng:\n",
    "        optimizer.zero_grad()\n",
    "        result = nw(source=1)[-1,0,:,0] # last timestep, only wavelength, all detectors, only batch\n",
    "        loss = lossfunc(result, target)\n",
    "        loss.backward()\n",
    "        optimizer.step()\n",
    "        rng.set_postfix(loss='%.10f'%loss.item())\n",
    "\n",
    "\n",
    "    print('weights:')\n",
    "    print(' '.join(['%.2f'%w for w in nw(source=1)[-1,0,:,0]]))\n",
    "\n",
    "\n",
    "nw.plot(nw(source=1))\n",
    "plt.xticks([1549,wl0*1e9,1551], [1549,'$\\lambda_0$',1551]); plt.yticks([0.1,1])\n",
    "plt.grid(True)\n",
    "plt.show()"
   ]
  },
  {
   "cell_type": "markdown",
   "metadata": {},
   "source": [
    "## Combination of Multiple Weights (Readout)"
   ]
  },
  {
   "cell_type": "code",
   "execution_count": null,
   "metadata": {},
   "outputs": [],
   "source": [
    "class Combiner(pt.Component):\n",
    "    def __init__(self, num_inputs, name=None):\n",
    "        self.num_inputs = num_inputs\n",
    "        self.num_ports = num_inputs + 1\n",
    "        pt.Component.__init__(self, name=name)\n",
    "    def set_S(self, S):\n",
    "        S[0, :, :self.num_inputs, -1] = 1\n",
    "        S[0, :, -1, :self.num_inputs] = 1"
   ]
  },
  {
   "cell_type": "code",
   "execution_count": null,
   "metadata": {},
   "outputs": [],
   "source": [
    "class Readout(pt.Network):\n",
    "    def __init__(self, num_weights):\n",
    "        super(Readout, self).__init__()\n",
    "        self.allpasses = MultipleAllPasses(num_allpasses=num_weights)\n",
    "        self.det = pt.Detector()\n",
    "        self.combiner = Combiner(num_weights)\n",
    "        self.link('combiner:%i'%num_weights, '0:det')\n",
    "        for i in range(num_weights):\n",
    "            self.add_component('ap%i'%i, self.allpasses.components['ap%i'%i])\n",
    "            self.add_component('s%i'%i, pt.Source())\n",
    "            self.link('s%i:0'%i, '0:ap%i:1'%i, '%i:combiner'%i)"
   ]
  },
  {
   "cell_type": "markdown",
   "metadata": {},
   "source": [
    "This ring combines multiple inputs with different weights:"
   ]
  },
  {
   "cell_type": "code",
   "execution_count": null,
   "metadata": {},
   "outputs": [],
   "source": [
    "nw = Readout(4)\n",
    "with pt.Environment(wl=wl0, freqdomain=True):\n",
    "    print('weights:')\n",
    "    print(' '.join(['%.2f'%w for w in nw.allpasses(source=1)[-1,0,:,0]]))\n",
    "\n",
    "nw.plot(nw(source=1))\n",
    "plt.xticks([1549,wl0*1e9,1551], [1549,'$\\lambda_0$',1551]); plt.yticks([0.1,1])\n",
    "plt.grid(True)\n",
    "plt.show()"
   ]
  },
  {
   "cell_type": "markdown",
   "metadata": {},
   "source": [
    "## Train Readout"
   ]
  },
  {
   "cell_type": "code",
   "execution_count": null,
   "metadata": {},
   "outputs": [],
   "source": [
    "src = torch.randn(4).rename(\"s\") + 0.3 # lower dimensional sources need to have named dimensions.\n",
    "target = torch.tensor(2.14325, dtype=torch.float32)\n",
    "optimizer = torch.optim.Adam(nw.allpasses.parameters(), lr=0.03)\n",
    "lossfunc = torch.nn.MSELoss()\n",
    "\n",
    "rng = trange(400)\n",
    "with pt.Environment(wl=wl0, freqdomain=True, grad=True):\n",
    "    for i in rng:\n",
    "        optimizer.zero_grad()\n",
    "        result = nw(source=src)[-1,0,0,0] # last timestep, only wavelength, only detector, only batch\n",
    "        loss = lossfunc(result, target)\n",
    "        loss.backward()\n",
    "        optimizer.step()\n",
    "        rng.set_postfix(loss='%.10f'%loss.item())\n",
    "\n",
    "\n",
    "    weights = nw.allpasses(source=1)[-1,0,:,0]\n",
    "    print('weights:')\n",
    "    print('+'.join(['%.2f'%w for w in weights])+'%.2f'%weights.sum().item())\n",
    "\n",
    "nw.plot(nw(source=src))\n",
    "plt.xticks([1549,wl0*1e9,1551], [1549,'$\\lambda_0$',1551]); plt.yticks([0.1,1, target.item()])\n",
    "plt.grid(True)\n",
    "plt.show()"
   ]
  }
 ],
 "metadata": {
  "kernelspec": {
   "display_name": "Python 3 (ipykernel)",
   "language": "python",
   "name": "python3"
  },
  "language_info": {
   "codemirror_mode": {
    "name": "ipython"
   },
   "file_extension": ".py",
   "mimetype": "text/x-python",
   "name": "python",
   "nbconvert_exporter": "python"
  }
 },
 "nbformat": 4,
 "nbformat_minor": 4
}
