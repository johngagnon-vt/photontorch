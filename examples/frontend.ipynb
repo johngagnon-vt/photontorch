{
 "cells": [
  {
   "cell_type": "markdown",
   "metadata": {},
   "source": [
    "# Transient Analysis"
   ]
  },
  {
   "cell_type": "markdown",
   "metadata": {},
   "source": [
    "## Imports"
   ]
  },
  {
   "cell_type": "code",
   "execution_count": 6,
   "metadata": {
    "editable": true,
    "is_executing": true,
    "slideshow": {
     "slide_type": ""
    },
    "tags": []
   },
   "outputs": [
    {
     "data": {
      "application/vnd.jupyter.widget-view+json": {
       "model_id": "4690b7ad388c4dd1a1164e711235595e",
       "version_major": 2,
       "version_minor": 0
      },
      "text/plain": [
       "IntSlider(value=5, max=64, min=2, step=2)"
      ]
     },
     "metadata": {},
     "output_type": "display_data"
    }
   ],
   "source": [
    "# Photontorch\n",
    "import sys\n",
    "sys.path.append('../')\n",
    "import photontorch as pt\n",
    "\n",
    "# Python\n",
    "import torch\n",
    "import numpy as np\n",
    "import matplotlib.pyplot as plt\n",
    "import ipywidgets as widge\n",
    "from tqdm.notebook import trange\n",
    "\n",
    "# numpy settings\n",
    "DEVICE = 'cuda'\n",
    "c = 299792458.0 #[m/s] speed of light\n",
    "Rb = 20e9 #[1/s] bitrate\n",
    "Rs = 320e9 #[1/s] samplerate\n",
    "fc = 20e9 #[1/s] cutoff frequency for bit generation\n",
    "wl0 = 1550e-9 #[m] center wavelength\n",
    "neff = 2.34 #[1] effective index\n",
    "ng = 3.4 #[1] group index\n",
    "N = 100 #[1] number of bits per bit stream\n",
    "B = 10 #[1] number of bit streams in training batch\n",
    "Str, Sva, Ste = (1, 2, 3) #[1] train seed, validation seed, test seed\n",
    "Lr = (1/Rb) * (c/ng) #[m] reference length (distance the signal travels during one bit period)\n",
    "device = torch.device(DEVICE) # default device used\n",
    "torch.set_default_dtype(torch.float32) # default dtype used\n",
    "torch.manual_seed(123) # pytorch seed\n",
    "np.random.seed(42) # numpy seed\n",
    "np.set_printoptions(precision=2, suppress=True) # show less numbers while printing numpy arrays\n",
    "size_select = widge.IntSlider(min=2,max=64,value=5,step=2)\n",
    "display(size_select)\n",
    "\n"
   ]
  },
  {
   "cell_type": "code",
   "execution_count": 7,
   "metadata": {
    "ExecuteTime": {
     "end_time": "2024-02-16T22:31:06.255777336Z",
     "start_time": "2024-02-16T22:31:06.243259590Z"
    },
    "collapsed": false,
    "jupyter": {
     "outputs_hidden": false
    }
   },
   "outputs": [],
   "source": [
    "\n",
    "N = size_select.value\n",
    "length = 25e-6 #[m]\n",
    "transmission = 0.5 #[]\n",
    "neff = 2.86\n",
    "env = pt.Environment(\n",
    "    t_start = 0,\n",
    "    t_end = 1000e-13,\n",
    "    dt = 1e-13,\n",
    "    wl = 1.55e-6,\n",
    ")\n",
    "env_fd = pt.Environment(freqdomain=True, num_t=1, grad=True)\n",
    "\n",
    "pt.set_environment(env)\n",
    "\n",
    "phi_set = theta_set = np.nan\n",
    "\n",
    "modulator_start_error = waveguide_error = 1\n",
    "all_high_input = torch.ones(N, names=[\"s\"]) / np.sqrt(N) # Source tensors with less than 4D need to have named dimensions.\n"
   ]
  },
  {
   "cell_type": "markdown",
   "metadata": {
    "collapsed": false,
    "jupyter": {
     "outputs_hidden": false
    }
   },
   "source": [
    "## Network Creation"
   ]
  },
  {
   "cell_type": "code",
   "execution_count": 8,
   "metadata": {
    "ExecuteTime": {
     "end_time": "2024-02-16T22:31:06.255869165Z",
     "start_time": "2024-02-16T22:31:06.243320639Z"
    },
    "collapsed": false,
    "jupyter": {
     "outputs_hidden": false
    }
   },
   "outputs": [],
   "source": [
    "network_reck = pt.ReckNxN(\n",
    "    N=N,\n",
    "    wg_factory=lambda: pt.Waveguide(length=1e-4, phase=waveguide_error*2*np.pi*np.random.rand(), trainable=True),\n",
    "    mzi_factory=lambda: pt.Mzi(length=1e-4,\n",
    "                               phi= phi_set if not np.isnan(phi_set) else modulator_start_error*2*np.pi*np.random.rand(),\n",
    "                               theta=theta_set if not np.isnan(theta_set) else modulator_start_error*2*np.pi*np.random.rand(),\n",
    "                               trainable=True),\n",
    ").terminate()\n",
    "# network_reck.graph(True)\n"
   ]
  },
  {
   "cell_type": "markdown",
   "metadata": {
    "collapsed": false,
    "jupyter": {
     "outputs_hidden": false
    }
   },
   "source": [
    "## Simulation"
   ]
  },
  {
   "cell_type": "code",
   "execution_count": 9,
   "metadata": {
    "ExecuteTime": {
     "end_time": "2024-02-16T22:31:06.300380400Z",
     "start_time": "2024-02-16T22:31:06.243351709Z"
    },
    "collapsed": false,
    "jupyter": {
     "outputs_hidden": false
    }
   },
   "outputs": [
    {
     "ename": "AttributeError",
     "evalue": "'Network' object has no attribute 'detectors'",
     "output_type": "error",
     "traceback": [
      "\u001b[0;31m---------------------------------------------------------------------------\u001b[0m",
      "\u001b[0;31mAttributeError\u001b[0m                            Traceback (most recent call last)",
      "Cell \u001b[0;32mIn[9], line 4\u001b[0m\n\u001b[1;32m      2\u001b[0m network_reck\u001b[38;5;241m.\u001b[39mplot(detected_time[:, \u001b[38;5;241m0\u001b[39m, :, \u001b[38;5;241m0\u001b[39m]); \u001b[38;5;66;03m# plot first and only batch\u001b[39;00m\n\u001b[1;32m      3\u001b[0m \u001b[38;5;66;03m# convergence analysis \u001b[39;00m\n\u001b[0;32m----> 4\u001b[0m labels \u001b[38;5;241m=\u001b[39m network_reck\u001b[38;5;241m.\u001b[39mdetectors\n\u001b[1;32m      8\u001b[0m detected_time[:, \u001b[38;5;241m0\u001b[39m, :, \u001b[38;5;241m0\u001b[39m]\n",
      "File \u001b[0;32m~/.local/lib/python3.11/site-packages/torch/nn/modules/module.py:1614\u001b[0m, in \u001b[0;36mModule.__getattr__\u001b[0;34m(self, name)\u001b[0m\n\u001b[1;32m   1612\u001b[0m     \u001b[38;5;28;01mif\u001b[39;00m name \u001b[38;5;129;01min\u001b[39;00m modules:\n\u001b[1;32m   1613\u001b[0m         \u001b[38;5;28;01mreturn\u001b[39;00m modules[name]\n\u001b[0;32m-> 1614\u001b[0m \u001b[38;5;28;01mraise\u001b[39;00m \u001b[38;5;167;01mAttributeError\u001b[39;00m(\u001b[38;5;124m\"\u001b[39m\u001b[38;5;124m'\u001b[39m\u001b[38;5;132;01m{}\u001b[39;00m\u001b[38;5;124m'\u001b[39m\u001b[38;5;124m object has no attribute \u001b[39m\u001b[38;5;124m'\u001b[39m\u001b[38;5;132;01m{}\u001b[39;00m\u001b[38;5;124m'\u001b[39m\u001b[38;5;124m\"\u001b[39m\u001b[38;5;241m.\u001b[39mformat(\n\u001b[1;32m   1615\u001b[0m     \u001b[38;5;28mtype\u001b[39m(\u001b[38;5;28mself\u001b[39m)\u001b[38;5;241m.\u001b[39m\u001b[38;5;18m__name__\u001b[39m, name))\n",
      "\u001b[0;31mAttributeError\u001b[0m: 'Network' object has no attribute 'detectors'"
     ]
    },
    {
     "data": {
      "image/png": "[encoded data removed]",
      "text/plain": [
       "<Figure size 640x480 with 1 Axes>"
      ]
     },
     "metadata": {},
     "output_type": "display_data"
    }
   ],
   "source": [
    "detected_time = network_reck(all_high_input)\n",
    "network_reck.plot(detected_time[:, 0, :, 0]); # plot first and only batch\n",
    "# convergence analysis \n",
    "labels = network_reck.detectors\n",
    "         \n",
    "\n",
    "                \n",
    "detected_time[:, 0, :, 0]"
   ]
  },
  {
   "cell_type": "code",
   "execution_count": null,
   "metadata": {
    "editable": true,
    "slideshow": {
     "slide_type": ""
    },
    "tags": []
   },
   "outputs": [],
   "source": [
    "pt.set_environment(env_fd)\n",
    "detected_freq_mag = network_reck(all_high_input)[:,0,:,0]\n",
    "detected_freq_mag = detected_freq_mag.detach().numpy()[0]\n",
    "plt.bar(np.arange(0,N),detected_freq_mag)\n",
    "print(f\"totaloutput\", np.sum(detected_freq_mag))\n",
    "plt.title(\"Output Magnitude\")"
   ]
  },
  {
   "cell_type": "code",
   "execution_count": null,
   "metadata": {},
   "outputs": [],
   "source": []
  },
  {
   "cell_type": "code",
   "execution_count": null,
   "metadata": {},
   "outputs": [],
   "source": []
  }
 ],
 "metadata": {
  "kernelspec": {
   "display_name": "Python 3 (ipykernel)",
   "language": "python",
   "name": "python3"
  },
  "language_info": {
   "codemirror_mode": {
    "name": "ipython",
    "version": 3
   },
   "file_extension": ".py",
   "mimetype": "text/x-python",
   "name": "python",
   "nbconvert_exporter": "python",
   "pygments_lexer": "ipython3",
   "version": "3.11.7"
  }
 },
 "nbformat": 4,
 "nbformat_minor": 4
}
