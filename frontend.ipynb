{
 "cells": [
  {
   "cell_type": "markdown",
   "metadata": {},
   "source": [
    "# Transient Analysis"
   ]
  },
  {
   "cell_type": "markdown",
   "metadata": {},
   "source": [
    "## Imports"
   ]
  },
  {
   "cell_type": "code",
   "execution_count": null,
   "metadata": {
    "editable": true,
    "is_executing": true,
    "slideshow": {
     "slide_type": ""
    }
   },
   "outputs": [],
   "source": [
    "# Photontorch\n",
    "import sys\n",
    "sys.path.append('.')\n",
    "import photontorch as pt\n",
    "# Python\n",
    "import torch\n",
    "import numpy as np\n",
    "import matplotlib.pyplot as plt\n",
    "import ipywidgets as widge\n",
    "from tqdm.notebook import trange\n",
    "\n",
    "# numpy settings\n",
    "DEVICE = 'cuda'\n",
    "c = 299792458.0 #[m/s] speed of light\n",
    "Rb = 20e9 #[1/s] bitrate\n",
    "Rs = 320e9 #[1/s] samplerate\n",
    "fc = 20e9 #[1/s] cutoff frequency for bit generation\n",
    "wl0 = 1550e-9 #[m] center wavelength\n",
    "neff = 2.34 #[1] effective index\n",
    "ng = 3.4 #[1] group index\n",
    "N = 100 #[1] number of bits per bit stream\n",
    "B = 10 #[1] number of bit streams in training batch\n",
    "Str, Sva, Ste = (1, 2, 3) #[1] train seed, validation seed, test seed\n",
    "Lr = (1/Rb) * (c/ng) #[m] reference length (distance the signal travels during one bit period)\n",
    "device = torch.device(DEVICE) # default device used\n",
    "torch.set_default_dtype(torch.float32) # default dtype used\n",
    "torch.manual_seed(123) # pytorch seed\n",
    "np.random.seed(42) # numpy seed\n",
    "np.set_printoptions(precision=2, suppress=True) # show less numbers while printing numpy arrays\n",
    "size_select = widge.IntSlider(min=2,max=64,value=3,step=2)\n",
    "display(size_select)\n",
    "\n"
   ]
  },
  {
   "cell_type": "code",
   "execution_count": null,
   "metadata": {
    "jupyter": {
     "outputs_hidden": false
    }
   },
   "outputs": [],
   "source": [
    "\n",
    "N = size_select.value\n",
    "length = 25e-6 #[m]\n",
    "transmission = 0.5 #[]\n",
    "neff = 2.86\n",
    "env = pt.Environment(\n",
    "    t_start = 0,\n",
    "    t_end = 1000e-13,\n",
    "    dt = 1e-13,\n",
    "    wl = 1.55e-6,\n",
    ")\n",
    "env_fd = pt.Environment(freqdomain=True, num_t=1, grad=True)\n",
    "\n",
    "pt.set_environment(env)\n",
    "\n",
    "phi_set = theta_set = np.nan\n",
    "\n",
    "modulator_start_error = waveguide_error = 1\n",
    "all_high_input = torch.ones(N, names=[\"s\"]) / np.sqrt(N) # Source tensors with less than 4D need to have named dimensions.\n"
   ]
  },
  {
   "cell_type": "markdown",
   "metadata": {
    "jupyter": {
     "outputs_hidden": false
    }
   },
   "source": [
    "## Network Creation"
   ]
  },
  {
   "cell_type": "code",
   "execution_count": null,
   "metadata": {
    "jupyter": {
     "outputs_hidden": false
    }
   },
   "outputs": [],
   "source": [
    "\n",
    "mS = torch.zeros(2, 1, 4, 4)  #scattering matrix TEST\n",
    "\n",
    "mS[0, :, 0, 1] = mS[0, :, 1, 0] = -1.726e-1\n",
    "mS[1, :, 0, 1] = mS[1, :, 1, 0] = -1.13e-4\n",
    "mS[0, :, 0, 2] = mS[0, :, 2, 0] = -8.043e-5\n",
    "mS[1, :, 0, 2] = mS[1, :, 2, 0] = -6.2856e-2\n",
    "\n",
    "mS[0, :, 1, 3] = mS[0, :, 3, 1] = 4.5372e-2\n",
    "mS[1, :, 1, 3] = mS[1, :, 3, 1] = 2.18818e-5\n",
    "mS[0, :, 2, 3] = mS[0, :, 3, 2] = 4.5372e-2\n",
    "mS[1, :, 2, 3] = mS[1, :, 3, 2] = -3.31658e-02\n",
    "\n",
    "\n",
    "network_reck = pt.ReckNxN(\n",
    "    N=N,\n",
    "    wg_factory=lambda: pt.Waveguide(length=1e-4, phase=waveguide_error*2*np.pi*np.random.rand(), trainable=True),\n",
    "    mzi_factory=lambda: pt.Mzij(length=1e-4,\n",
    "                               phi= phi_set if not np.isnan(phi_set) else modulator_start_error*2*np.pi*np.random.rand(),\n",
    "                               theta=theta_set if not np.isnan(theta_set) else modulator_start_error*2*np.pi*np.random.rand(),\n",
    "                               trainable=True, S = mS),\n",
    ").terminate()\n",
    "# network_reck.graph(True)\n"
   ]
  },
  {
   "cell_type": "markdown",
   "metadata": {
    "jupyter": {
     "outputs_hidden": false
    }
   },
   "source": [
    "## Simulation"
   ]
  },
  {
   "cell_type": "code",
   "execution_count": null,
   "metadata": {
    "jupyter": {
     "outputs_hidden": false
    }
   },
   "outputs": [],
   "source": [
    "detected_time = network_reck(all_high_input)\n",
    "network_reck.plot(detected_time[:, 0, :, 0]); # plot first and only batch\n",
    "# convergence analysis \n",
    "\n",
    "                \n",
    "detected_time[:, 0, :, 0]"
   ]
  },
  {
   "cell_type": "code",
   "execution_count": null,
   "metadata": {
    "editable": true,
    "slideshow": {
     "slide_type": ""
    }
   },
   "outputs": [],
   "source": [
    "pt.set_environment(env_fd)\n",
    "detected_freq_mag = network_reck(all_high_input)[:,0,:,0]\n",
    "detected_freq_mag = detected_freq_mag.detach().numpy()[0]\n",
    "plt.bar(np.arange(0,N),detected_freq_mag)\n",
    "print(f\"totaloutput\", np.sum(detected_freq_mag))\n",
    "plt.title(\"Output Magnitude\")"
   ]
  },
  {
   "cell_type": "code",
   "execution_count": null,
   "metadata": {},
   "outputs": [],
   "source": []
  },
  {
   "cell_type": "code",
   "execution_count": null,
   "metadata": {},
   "outputs": [],
   "source": []
  }
 ],
 "metadata": {
  "kernelspec": {
   "display_name": "Python 3 (ipykernel)",
   "language": "python",
   "name": "python3"
  },
  "language_info": {
   "codemirror_mode": {
    "name": "ipython"
   },
   "file_extension": ".py",
   "mimetype": "text/x-python",
   "name": "python",
   "nbconvert_exporter": "python"
  }
 },
 "nbformat": 4,
 "nbformat_minor": 4
}
